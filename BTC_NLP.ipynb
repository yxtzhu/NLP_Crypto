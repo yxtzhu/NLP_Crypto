{
 "cells": [
  {
   "cell_type": "markdown",
   "metadata": {},
   "source": [
    "## Bitcoin NLP Using Twitter API"
   ]
  },
  {
   "cell_type": "markdown",
   "metadata": {},
   "source": [
    "Accessing Twitter API"
   ]
  },
  {
   "cell_type": "code",
   "execution_count": 18,
   "metadata": {
    "collapsed": true
   },
   "outputs": [],
   "source": [
    "import pickle\n",
    "import os"
   ]
  },
  {
   "cell_type": "code",
   "execution_count": 22,
   "metadata": {
    "collapsed": false
   },
   "outputs": [],
   "source": [
    "if not os.path.exists('secret_twitter_credentials.pkl'):\n",
    "    Twitter={}\n",
    "    #Twitter['Header']='POST /1.1/statuses/update.json?include_entities=true HTTP/1.1 \\n Accept: */* \\n Connection: close \\n User-Agent: OAuth python v0.4.4 \\n Content-Type: application/x-www-form-urlencoded'\n",
    "    Twitter['Consumer Key'] = ''\n",
    "    Twitter['Consumer Secret'] = ''\n",
    "    Twitter['Access Token'] = ''\n",
    "    Twitter['Access Token Secret'] = ''\n",
    "    with open('secret_twitter_credentials.pkl','wb') as f:\n",
    "        pickle.dump(Twitter, f)\n",
    "else:\n",
    "    Twitter=pickle.load(open('secret_twitter_credentials.pkl','rb'))"
   ]
  },
  {
   "cell_type": "code",
   "execution_count": 48,
   "metadata": {
    "collapsed": false
   },
   "outputs": [
    {
     "name": "stdout",
     "output_type": "stream",
     "text": [
      "<twitter.api.Twitter object at 0x106ab1b00>\n"
     ]
    }
   ],
   "source": [
    "import twitter\n",
    "\n",
    "auth = twitter.oauth.OAuth(Twitter['Access Token'],\n",
    "                           Twitter['Access Token Secret'],\n",
    "                           Twitter['Consumer Key'],\n",
    "                           Twitter['Consumer Secret'])\n",
    "\n",
    "twitter_api = twitter.Twitter(auth=auth)\n",
    "\n",
    "# Nothing to see by displaying twitter_api except that it's now a\n",
    "# defined variable\n",
    "\n",
    "print(twitter_api)"
   ]
  },
  {
   "cell_type": "markdown",
   "metadata": {},
   "source": [
    "## Use textblob to build a simple sentiment analysis function"
   ]
  },
  {
   "cell_type": "code",
   "execution_count": 197,
   "metadata": {
    "collapsed": false
   },
   "outputs": [],
   "source": [
    "from textblob import TextBlob\n",
    "import re"
   ]
  },
  {
   "cell_type": "code",
   "execution_count": 214,
   "metadata": {
    "collapsed": false
   },
   "outputs": [],
   "source": [
    "def get_sentiment (t):\n",
    "    s = TextBlob(t)\n",
    "    if s.sentiment.polarity > 0:\n",
    "        return 'positive'\n",
    "    elif s.sentiment.polarity == 0:\n",
    "        return 'neutral'\n",
    "    else:\n",
    "        return 'negative'"
   ]
  },
  {
   "cell_type": "markdown",
   "metadata": {},
   "source": [
    "Access Twitter REST API for tweets"
   ]
  },
  {
   "cell_type": "code",
   "execution_count": 201,
   "metadata": {
    "collapsed": false
   },
   "outputs": [
    {
     "name": "stdout",
     "output_type": "stream",
     "text": [
      "What subject do you want to analyze for this example? \n",
      "bitcoin -rt\n",
      "How many Tweets do you want to analyze? \n",
      "100\n"
     ]
    }
   ],
   "source": [
    "query = input(\"What subject do you want to analyze for this example? \\n\")\n",
    "number = input(\"How many Tweets do you want to analyze? \\n\")"
   ]
  },
  {
   "cell_type": "code",
   "execution_count": 232,
   "metadata": {
    "collapsed": false
   },
   "outputs": [],
   "source": [
    "result=twitter_api.search.tweets(q=query, result_type='recent', lang='en', count=number)\n",
    "statuses = result['statuses']"
   ]
  },
  {
   "cell_type": "code",
   "execution_count": 260,
   "metadata": {
    "collapsed": false
   },
   "outputs": [],
   "source": [
    "#print(result)"
   ]
  },
  {
   "cell_type": "code",
   "execution_count": 237,
   "metadata": {
    "collapsed": false
   },
   "outputs": [
    {
     "data": {
      "text/plain": [
       "91"
      ]
     },
     "execution_count": 237,
     "metadata": {},
     "output_type": "execute_result"
    }
   ],
   "source": [
    "len(statuses)"
   ]
  },
  {
   "cell_type": "code",
   "execution_count": 239,
   "metadata": {
    "collapsed": false
   },
   "outputs": [],
   "source": [
    "#print(statuses)"
   ]
  },
  {
   "cell_type": "markdown",
   "metadata": {},
   "source": [
    "Remove duplicates"
   ]
  },
  {
   "cell_type": "code",
   "execution_count": 240,
   "metadata": {
    "collapsed": true
   },
   "outputs": [],
   "source": [
    "all_text = []\n",
    "filtered_statuses = []\n",
    "for s in statuses:\n",
    "    if not s[\"text\"] in all_text:\n",
    "        filtered_statuses.append(s)\n",
    "        all_text.append(s[\"text\"])\n",
    "statuses = filtered_statuses  "
   ]
  },
  {
   "cell_type": "code",
   "execution_count": 241,
   "metadata": {
    "collapsed": false
   },
   "outputs": [
    {
     "data": {
      "text/plain": [
       "89"
      ]
     },
     "execution_count": 241,
     "metadata": {},
     "output_type": "execute_result"
    }
   ],
   "source": [
    "len(filtered_statuses)"
   ]
  },
  {
   "cell_type": "code",
   "execution_count": 242,
   "metadata": {
    "collapsed": false
   },
   "outputs": [
    {
     "data": {
      "text/plain": [
       "['The Low-Key Indicator That The Bitcoin Bubble May Have Burst https://t.co/JcsVepGJII',\n",
       " '@alvinfoo @dinisguarda @VanRijmenam @Datafloq @BourseetTrading @chboursin @MHiesboeck @kuriharan @MikeQuindazzi… https://t.co/ypESnOK1c6',\n",
       " '@XVGPlankton More interesting than reporting ATM thefts',\n",
       " \"@Lazy5B My great grandfather doesn't know what an iPhone is, would think artificial intelligence is techno voodoo,… https://t.co/3CdBnutYLA\",\n",
       " 'Earn bitcoin on a daily basis!\\n\\n1. Follow @slidecoin \\n2. Complete instructions in pinned tweet',\n",
       " 'Bitcoin Bithumb $BTCKRW https://t.co/S0AvysEeB2',\n",
       " '@game_musse Right now A LOT of bitcoin.',\n",
       " '@_jfeldman @BitcoinKinetics @ClarkCountyNV @inc_bitcoin @BitcoinNevada At the time of their deaths, I was building… https://t.co/KQim6JM6ia',\n",
       " '#CYBEREITS #Airdrop still active!!\\n\\nURL: https://t.co/BTQ3AWntVk …\\n\\n1. Enter the ETH address\\n\\n2. Copy the code and… https://t.co/ikUSiSmmLj',\n",
       " '[01:37 GMT]Arbitrage opportunity has occurred!!\\nThe diff is 0.00000256 BTC!\\n\\n1. Buy $GAME on bittrex(0.0001595 BTC)… https://t.co/f8OPpjJhOK',\n",
       " 'Hello, I am Lawrence Emilia and I trade binary options (bitcoin mining). Binary is the best way of making money fro… https://t.co/AuYJ9JTOC6',\n",
       " 'Twitter is shit but fuck if the people I’m following aren’t great. InfoSec, Bitcoin, Gaming, Comics, great resource… https://t.co/b9QMhbySEO',\n",
       " 'Why Bitcoin Is Not Working https://t.co/0sDDnnhkOf All the signs point to the same conclusion',\n",
       " '@BTCbenny Bitcoin and child porn on the Blockchain blah blah blah. That will be one of the questions. Good luck man! ✌️👍',\n",
       " \"Wall Street analyst makes an evidence-based case for holding (or 'HODLing') bitcoin for long term https://t.co/v1RbpmDgP3\",\n",
       " 'Bitcoin News Summary – Mar 26,\\xa02018 https://t.co/6MlEUouNUf https://t.co/myhvCc5Wyx',\n",
       " '@DiscipleGames 1 entire bitcoin',\n",
       " 'New post (Reddit No Longer Accepts Bitcoin) has been published on Crypto - https://t.co/OHPhAvQxWt',\n",
       " 'Blockchain growth gathers momentum with new PBOC platform ... https://t.co/sQZVOXda81 #blockchain #crypto #banks… https://t.co/3afPKAdqKk',\n",
       " 'When mountains form, you get earthquakes. Bitcoin had an earthquake in December (its most recent). What has happene… https://t.co/UCRzoRBKlY',\n",
       " '“Real Users:” Bitcoin Donations Helped These Earthquake Survivors Recover https://t.co/pGHnOB2ltH \\n#newsoftheweek… https://t.co/hQgPnSBMRF',\n",
       " 'i dont care about bitcoin can i just have to tweet a fuck ton more',\n",
       " 'Lots of people are pointing out that bitcoin is pogs, but on the computer. But you know what lots of people are mis… https://t.co/wRKE2bVQyq',\n",
       " '“Markets can remain irrational longer than you can remain solvent”\\n#bitcoin #litecoin #ethereum #cryptonews #crypto https://t.co/D0o4zy3EvX',\n",
       " 'HOW TO EARN BITCOIN: https://t.co/5OBiNpySNK via @YouTube',\n",
       " '@PDATA_Token  #Crypto #Blockchain #PDATA #Opirium #ethereum #bitcoin #cryptocurrency #btc #brokageofpersonaldata… https://t.co/kcXeZlwxqE',\n",
       " 'Cointext Launches Beta - Send Bitcoin Cash Without the Internet https://t.co/sBpUecy3v2',\n",
       " 'Bitcoin please',\n",
       " '\"Report: 2 Japanese Crypto Exchanges to Shut Down\" https://t.co/6ZQvPSdwpG Two crypto exchanges in Japan are report… https://t.co/yApD4I2jfm',\n",
       " \"Keep Calm and HODL Bitcoin says Fundstrat's Tom Lee https://t.co/SPlf4allV9\",\n",
       " 'Twitter and LinkedIn ban cryptocurrency adverts – leaving regulators behind - The Independent… https://t.co/VFKsPTgONY',\n",
       " '@BillOReilly Do you recommend paying the paper bills in bitcoin?',\n",
       " 'The latest More about exploring! https://t.co/RuweOFw1cT #bitcoin',\n",
       " '@pierre_rochard @bccesaa @bitcoincoreorg Bitcoin core minrelaytxfee is in Bitcoin per 1000 vbytes, so you can set i… https://t.co/1TTNIG2hI3',\n",
       " 'I founded a bot company back in 2007 and over the course of a deca https://t.co/HdtiN6QNBN #Cybersecurity #Bitcoin https://t.co/81qcYqtHH5',\n",
       " 'I founded a bot company back in 2007 and over the course of a deca https://t.co/1AmArJWXxq #Cybersecurity #Bitcoin https://t.co/BgzKn3HPyE',\n",
       " '@OTC_Bitcoin $DBC pumping 📈 Giving back a dip now for another💰',\n",
       " 'Been lazy on the shilling. Pretty much a given tho that when #altseason comes, it will be from coins on Binance. \\nS… https://t.co/EViRusosh3',\n",
       " 'This USB to Serial converter allows you to connect a RS-232 serial https://t.co/KO0rTqWjxE #Cybersecurity #Bitcoin https://t.co/6ZdmuQHi4T',\n",
       " 'This USB to Serial converter allows you to connect a RS-232 serial https://t.co/EV3DXeKnMa #Cybersecurity #Bitcoin https://t.co/uN6ulsTizH',\n",
       " 'Dependence on computers has had a transformative effect on human s https://t.co/5YzCHzqJEh #Cybersecurity #Bitcoin https://t.co/ATeYgWgNYr',\n",
       " 'Dependence on computers has had a transformative effect on human s https://t.co/SPxFq2OoI9 #Cybersecurity #Bitcoin https://t.co/A5NqMY05HR',\n",
       " 'Over 70 recipes to master the most widely used penetration testing https://t.co/MyBoiNJFCR #Cybersecurity #Bitcoin https://t.co/xOXZgO43cL',\n",
       " \"It's always sunny in #bitcoin land. https://t.co/jDF1wIJOtB\",\n",
       " 'Over 70 recipes to master the most widely used penetration testing https://t.co/kYDWmx1rC9 #Cybersecurity #Bitcoin https://t.co/KzaTSJokuK',\n",
       " '@_jfeldman @BitcoinKinetics I formed Bitcoin Inc in @ClarkCountyNV after 6 months of crying on the beach in San Die… https://t.co/9LIQNzMlR4',\n",
       " 'Corporate Cyberwar chronicles the daily battle between technical c https://t.co/RqPx0ZUogg #Cybersecurity #Bitcoin https://t.co/vCAtBZ2bP9',\n",
       " 'Corporate Cyberwar chronicles the daily battle between technical c https://t.co/aDDozjvCvs #Cybersecurity #Bitcoin https://t.co/pdKODTkUjm',\n",
       " '@johnkim77 @bensemchee @DaddyCool1991 @theemrsmcafee @Angiemarie_711 @Litecoin_MAD @litecoindad @cryptorecruitr… https://t.co/WLQpmaP9cE',\n",
       " \"I just signed up on WazirX Bitcoin exchange and earned WRX coins. They're giving away 200 WRX coins free to anyone… https://t.co/pX9Tw4VNIP\",\n",
       " 'GOOD NEWS!!!!\\n\\nGLOBAL SPY ICO IS LIVE!!!\\n\\nVisit https://t.co/Yl1uLG70CV  to contribute and be part of the revolutio… https://t.co/60I5Mizdq1',\n",
       " \"The Crypto Show: Ken Anderson On HashGraphs Live At UT Dallas The Let's Talk Bitcoin Network https://t.co/ZdkgZMPXhI\",\n",
       " 'Comment on IT’S OFFICIAL: NSA TRACKING BITCOIN TRANSACTIONS by goshawks: Also, a must-read… https://t.co/OtQaiK0Vkx',\n",
       " 'A thrilling game of tentacles, or images of octopuses in art from Ellen Jewett  \\nStart mining today! Bitcoin Cloud… https://t.co/xHUo8yp0aa',\n",
       " 'Airdrop UIP\\n\\nAirdrop left on 30th\\nRegister with ETH address and copy code on telegram group get free UIP\\nJoin here… https://t.co/Gd2Jo9I980',\n",
       " 'For no particular reason, SPX 2600 and Bitcoin $8000 are speculative lines in the sand atm',\n",
       " '#WhatDoesIcoMean, #WhatsIco 20% of University Students Use Financial Aid to Buy Cryptocurrency… https://t.co/CGJ8KAULtE',\n",
       " 'Does Rubbing Alcohol Help Eczema? https://t.co/heKChFrGek',\n",
       " 'Bitcoin percentage of market cap: 44.92 %\\n#BPOMC #Bitcoin #Altcoin #Blockchain #Cryptocurrency #Dominance',\n",
       " 'Acinq Releases Eclair Lightning Wallet Beta on Mainnet https://t.co/urtkMXZ9sx',\n",
       " '@PiszczakJ @BKBrianKelly I have bought any crypto yet. May buy BITCOIN when it goes back down to $2,000. I just don… https://t.co/A11xOhIB2l',\n",
       " '@_jfeldman My mother passed away in 2015, a month after her dad passed away, the next week one of my employees at… https://t.co/1TtqV0qPUE',\n",
       " '@ProfFaustus When will it be possible to send bitcoin cash now and released over time? For instance a (presumably a… https://t.co/M4I9BwREoM',\n",
       " 'A little something for Yahoo7 yesterday\\nhttps://t.co/dBjBuQQZxU',\n",
       " 'March in Review: Ripple (XRP) Taken Over the Baton From Bitcoin (BTC)? https://t.co/NsQsqr2Hup',\n",
       " 'Great profile of Binance &amp; CZ a hero in the crypto space. Binance volume down 80% from peak is only a matter of tim… https://t.co/PwZdqEoNQo',\n",
       " 'Follow everyone who Likes and Rətweets this',\n",
       " '@_tm3k yeah bitcoin is cool but have you heard of kohls cash?? @Kohls',\n",
       " 'Remember bitcoin?\\n\\nWell, here’s what happens when I record a video of myself blabbing about what’s gonna happen to… https://t.co/vjwI7kfRDL',\n",
       " 'Chilean #CryptocurrencyExchanges Seek Clear Regulations After Banks Shutter Accounts: Two Chilean… https://t.co/4tnJpGErVh',\n",
       " '@APompliano @spencernoon @cdixon @polychaincap @naval @FEhrsam .. Which all run on top of an underlying infrastruct… https://t.co/5WsqmjxFnJ',\n",
       " '@davelevora We all made a fortune. Like bitcoin but with Pat Listach rated rookies.',\n",
       " 'How has crytpocurrency compliance hurt (or even destroyed) businesses? | BitAML https://t.co/vjqUffVu8L @BitAML https://t.co/GBO4kyuu4w',\n",
       " '@jopode Can you contact https://t.co/6Qc7dGJ2ZS and reply with ticket number so I can check your account',\n",
       " 'Twitter CEO Says #Bitcoin Will Become World\\'s \"Single Currency\" Within A Decade https://t.co/BZqXRCAZ7F',\n",
       " 'IT’S OFFICIAL: NSA TRACKING BITCOIN TRANSACTIONS https://t.co/T9VivyxTEq',\n",
       " '⭐ Reddit Disables Bitcoin Payments Amid Coinbase Commerce Overhaul, But Are They Gone Forever? ⭐ \\nRead more HERE ➡️… https://t.co/VhfVbjvFQ9',\n",
       " 'Earn bitcoin on a daily basis!\\n\\n1. Follow @slidecoin \\n2. Complete instructions in pinned tweet',\n",
       " 'Install CryptoTab and mine Bitcoin!  @gio_abashidze https://t.co/68cTTu0o9C',\n",
       " 'CoinText – Send and receive Bitcoin Cash without Internet using simple text messages https://t.co/pOFFEmSSDw',\n",
       " '@AnneDavidson44 Invest in bitcoin',\n",
       " 'The Death of Altcoins? Lightning Network Growing Rapidly, Nodes Now Exceed Those of Bitcoin\\xa0Cash… https://t.co/z4WvpRaw7t',\n",
       " \"@brndnmtthws The cryptic error means that the card was declined when Stripe tried to add the card. (I'll look at ma… https://t.co/u6cruIjYL0\",\n",
       " 'Before and After Bitcoin Futures https://t.co/EX2sjy4Q8y #news #bitcoin',\n",
       " 'Bitcoin Today: Prices Dip Below $8000 for Third Straight Day https://t.co/w0AlPX41of #news #bitcoin',\n",
       " 'Bitcoin Bull Tom Lee Says HODL On During Slumps for Big Gains https://t.co/Lsa7e1ufdy',\n",
       " 'What to Make of British Cryptocurrency Task Force #blockchain #ethereum #bitcoin #ico #eth https://t.co/Ejw4BQh0le',\n",
       " '\"Twitter and LinkedIn ban cryptocurrency adverts – leaving regulators behind - The Independent\" https://t.co/5phpu6pyPp #Twitter',\n",
       " 'Earn bitcoin on a daily basis!\\n\\n1. Follow @slidecoin \\n2. Complete instructions in pinned tweet',\n",
       " 'HTMLcoin is a techno tour de force. #stellar #bitcoin #blockchain #ethereum #BTC #ethereum #eth #fintech #crypto… https://t.co/bGOPamckGx',\n",
       " 'Are you a cryptocurrency ambassador, bounty hunter? Have the interest to be a ambassador.If so message me for more… https://t.co/xChVAvTBq7']"
      ]
     },
     "execution_count": 242,
     "metadata": {},
     "output_type": "execute_result"
    }
   ],
   "source": [
    "[s['text'] for s in result['statuses']]"
   ]
  },
  {
   "cell_type": "code",
   "execution_count": 268,
   "metadata": {
    "collapsed": false
   },
   "outputs": [
    {
     "name": "stdout",
     "output_type": "stream",
     "text": [
      "42950\n",
      "{\n",
      " \"geo\": null,\n",
      " \"metadata\": {\n",
      "  \"iso_language_code\": \"en\",\n",
      "  \"result_type\": \"recent\"\n",
      " },\n",
      " \"place\": null,\n",
      " \"user\": {\n",
      "  \"notifications\": false,\n",
      "  \"has_extended_profile\": true,\n",
      "  \"contributors_enabled\": false,\n",
      "  \"id_str\": \"41140413\",\n",
      "  \"profile_use_background_image\": true,\n",
      "  \"profile_background_color\": \"DB46A0\",\n",
      "  \"location\": \"Altcoinworld\",\n",
      "  \"followers_count\": 92738,\n",
      "  \"profile_banner_url\": \"https://pbs.twimg.com/profile_banners/41140413/1521716421\",\n",
      "  \"utc_offset\": 7200,\n",
      "  \"created_at\": \"Tue May 19 15:43:06 +0000 2009\",\n",
      "  \"favourites_count\": 42950,\n",
      "  \"url\": \"https://t.co/eLPIsYqORs\",\n",
      "  \"entities\": {\n",
      "   \"url\": {\n",
      "    \"urls\": [\n",
      "     {\n",
      "      \"expanded_url\": \"http://bountyhive.io/r/tokens\",\n",
      "      \"display_url\": \"bountyhive.io/r/tokens\",\n",
      "      \"url\": \"https://t.co/eLPIsYqORs\",\n",
      "      \"indices\": [\n",
      "       0,\n",
      "       23\n",
      "      ]\n",
      "     }\n",
      "    ]\n",
      "   },\n",
      "   \"description\": {\n",
      "    \"urls\": []\n",
      "   }\n",
      "  },\n",
      "  \"profile_link_color\": \"DB46A0\",\n",
      "  \"profile_background_image_url_https\": \"https://pbs.twimg.com/profile_background_images/493905837786542080/6MOp9-Ji.jpeg\",\n",
      "  \"profile_background_image_url\": \"http://pbs.twimg.com/profile_background_images/493905837786542080/6MOp9-Ji.jpeg\",\n",
      "  \"profile_image_url_https\": \"https://pbs.twimg.com/profile_images/917177363053588483/yVuEcKjx_normal.jpg\",\n",
      "  \"verified\": false,\n",
      "  \"screen_name\": \"devnullius\",\n",
      "  \"id\": 41140413,\n",
      "  \"lang\": \"en\",\n",
      "  \"profile_sidebar_fill_color\": \"000000\",\n",
      "  \"is_translation_enabled\": false,\n",
      "  \"description\": \"I \\u2665 #crypto. Follow me for ALL cryptocurrency NEWS, gossip & inside information. #bitcoin #ethereum #altcoin #blockchain #ICOs\",\n",
      "  \"follow_request_sent\": false,\n",
      "  \"geo_enabled\": false,\n",
      "  \"friends_count\": 91914,\n",
      "  \"profile_image_url\": \"http://pbs.twimg.com/profile_images/917177363053588483/yVuEcKjx_normal.jpg\",\n",
      "  \"following\": false,\n",
      "  \"protected\": false,\n",
      "  \"default_profile\": false,\n",
      "  \"default_profile_image\": false,\n",
      "  \"time_zone\": \"Amsterdam\",\n",
      "  \"profile_text_color\": \"000000\",\n",
      "  \"statuses_count\": 386363,\n",
      "  \"profile_sidebar_border_color\": \"000000\",\n",
      "  \"profile_background_tile\": false,\n",
      "  \"name\": \"#Altcoin Devvie\",\n",
      "  \"is_translator\": false,\n",
      "  \"listed_count\": 1844,\n",
      "  \"translator_type\": \"none\"\n",
      " },\n",
      " \"in_reply_to_screen_name\": null,\n",
      " \"is_quote_status\": false,\n",
      " \"entities\": {\n",
      "  \"hashtags\": [],\n",
      "  \"urls\": [\n",
      "   {\n",
      "    \"expanded_url\": \"https://www.google.com/url?rct=j&sa=t&url=https://www.benzinga.com/markets/cryptocurrency/18/03/11427051/the-low-key-indicator-that-the-bitcoin-bubble-may-have-burst&ct=ga&cd=CAIyHDlkMjI1NjUyODE3ODFjMDQ6Y29tOmVuOlVTOlI&usg=AFQjCNH2SG2UA62cDQpnrfxfm5y5wkprMA\",\n",
      "    \"display_url\": \"google.com/url?rct=j&sa=t\\u2026\",\n",
      "    \"url\": \"https://t.co/JcsVepGJII\",\n",
      "    \"indices\": [\n",
      "     61,\n",
      "     84\n",
      "    ]\n",
      "   }\n",
      "  ],\n",
      "  \"user_mentions\": [],\n",
      "  \"symbols\": []\n",
      " },\n",
      " \"text\": \"The Low-Key Indicator That The Bitcoin Bubble May Have Burst https://t.co/JcsVepGJII\",\n",
      " \"source\": \"<a href=\\\"http://localhost.com\\\" rel=\\\"nofollow\\\">DeDub TwitterStar Personal RSS</a>\",\n",
      " \"retweeted\": false,\n",
      " \"id_str\": \"979170777479163905\",\n",
      " \"retweet_count\": 0,\n",
      " \"id\": 979170777479163905,\n",
      " \"lang\": \"en\",\n",
      " \"created_at\": \"Thu Mar 29 01:38:00 +0000 2018\",\n",
      " \"possibly_sensitive\": false,\n",
      " \"contributors\": null,\n",
      " \"in_reply_to_user_id_str\": null,\n",
      " \"coordinates\": null,\n",
      " \"in_reply_to_status_id\": null,\n",
      " \"favorite_count\": 0,\n",
      " \"favorited\": false,\n",
      " \"in_reply_to_status_id_str\": null,\n",
      " \"in_reply_to_user_id\": null,\n",
      " \"truncated\": false\n",
      "}\n"
     ]
    }
   ],
   "source": [
    "# get the favourite count for the first item\n",
    "print(json.dumps(statuses[0]['user']['favourites_count'], indent=1))\n",
    "print(json.dumps(statuses[0], indent=1))"
   ]
  },
  {
   "cell_type": "code",
   "execution_count": 294,
   "metadata": {
    "collapsed": false
   },
   "outputs": [],
   "source": [
    "status_texts = [ status['text'] \n",
    "                 for status in statuses ]\n",
    "\n",
    "screen_names = [ user_mention['screen_name'] \n",
    "                 for status in statuses\n",
    "                     for user_mention in status['entities']['user_mentions'] ]\n",
    "\n",
    "hashtags = [ hashtag['text'] \n",
    "             for status in statuses\n",
    "                 for hashtag in status['entities']['hashtags'] ]\n",
    "\n",
    "fav = [ status['user']['favourites_count']\n",
    "        for status in statuses]\n",
    "\n",
    "\n",
    "# Compute a collection of all words from all tweets\n",
    "words = [ w \n",
    "          for t in status_texts \n",
    "              for w in t.split() ]"
   ]
  },
  {
   "cell_type": "code",
   "execution_count": 295,
   "metadata": {
    "collapsed": false
   },
   "outputs": [
    {
     "name": "stdout",
     "output_type": "stream",
     "text": [
      "\"The Low-Key Indicator That The Bitcoin Bubble May Have Burst https://t.co/JcsVepGJII\"\n",
      "\"alvinfoo\"\n",
      "\"CYBEREITS\"\n",
      "\"The\"\n",
      "42950\n"
     ]
    }
   ],
   "source": [
    "# Explore the first 5 items for each...\n",
    "\n",
    "print(json.dumps(status_texts[0], indent=1))\n",
    "print(json.dumps(screen_names[0], indent=1)) \n",
    "print(json.dumps(hashtags[0], indent=1))\n",
    "print(json.dumps(words[0], indent=1))\n",
    "print(json.dumps(fav[0], indent=1))"
   ]
  },
  {
   "cell_type": "code",
   "execution_count": 296,
   "metadata": {
    "collapsed": false
   },
   "outputs": [
    {
     "name": "stdout",
     "output_type": "stream",
     "text": [
      "\"The Low-Key Indicator That The Bitcoin Bubble May Have Burst https://t.co/JcsVepGJII\"\n"
     ]
    }
   ],
   "source": [
    "print(json.dumps(status_texts[0], indent=1))"
   ]
  },
  {
   "cell_type": "code",
   "execution_count": 298,
   "metadata": {
    "collapsed": false
   },
   "outputs": [
    {
     "name": "stdout",
     "output_type": "stream",
     "text": [
      "neutral\n"
     ]
    }
   ],
   "source": [
    "print(get_sentiment(status_texts[0]))"
   ]
  },
  {
   "cell_type": "code",
   "execution_count": 300,
   "metadata": {
    "collapsed": false
   },
   "outputs": [
    {
     "name": "stdout",
     "output_type": "stream",
     "text": [
      "[('the', 28), ('Bitcoin', 25), ('of', 23), ('a', 22), ('on', 18), ('to', 17), ('and', 17), ('in', 16), ('#Bitcoin', 12), ('I', 11)]\n",
      "\n",
      "[('Bitcoin', 12), ('Cybersecurity', 10), ('bitcoin', 8), ('ethereum', 5), ('blockchain', 3), ('crypto', 3), ('Blockchain', 2), ('news', 2), ('eth', 2), ('Opirium', 1)]\n",
      "\n"
     ]
    }
   ],
   "source": [
    "from collections import Counter\n",
    "\n",
    "for item in [words,hashtags]:\n",
    "    c = Counter(item)\n",
    "    print(c.most_common()[:10]) # top 10\n",
    "    print()"
   ]
  },
  {
   "cell_type": "code",
   "execution_count": 302,
   "metadata": {
    "collapsed": true
   },
   "outputs": [],
   "source": [
    "retweets = [\n",
    "            # Store out a tuple of these three values ...\n",
    "            (status['retweet_count'], \n",
    "             status['retweeted_status']['user']['screen_name'],\n",
    "             status['text'].replace(\"\\n\",\"\\\\\")) \n",
    "            \n",
    "            # ... for each status ...\n",
    "            for status in statuses \n",
    "            \n",
    "            # ... so long as the status meets this condition.\n",
    "                if 'retweeted_status' in status\n",
    "           ]"
   ]
  },
  {
   "cell_type": "code",
   "execution_count": 306,
   "metadata": {
    "collapsed": false
   },
   "outputs": [
    {
     "name": "stdout",
     "output_type": "stream",
     "text": [
      "[]\n"
     ]
    }
   ],
   "source": [
    "print(retweets)"
   ]
  },
  {
   "cell_type": "code",
   "execution_count": null,
   "metadata": {
    "collapsed": true
   },
   "outputs": [],
   "source": []
  }
 ],
 "metadata": {
  "anaconda-cloud": {},
  "kernelspec": {
   "display_name": "Python [Root]",
   "language": "python",
   "name": "Python [Root]"
  },
  "language_info": {
   "codemirror_mode": {
    "name": "ipython",
    "version": 3
   },
   "file_extension": ".py",
   "mimetype": "text/x-python",
   "name": "python",
   "nbconvert_exporter": "python",
   "pygments_lexer": "ipython3",
   "version": "3.5.2"
  }
 },
 "nbformat": 4,
 "nbformat_minor": 2
}

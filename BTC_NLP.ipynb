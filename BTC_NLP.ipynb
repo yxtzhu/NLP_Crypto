{
 "cells": [
  {
   "cell_type": "markdown",
   "metadata": {},
   "source": [
    "## Bitcoin NLP Using Twitter API"
   ]
  },
  {
   "cell_type": "markdown",
   "metadata": {},
   "source": [
    "Sentiment analysis using data collected from Twitter API. What is the sentiment on a topic based on chatters over Twitter? \n",
    "\n",
    "Data:\n",
    "Due to API limitation of a standard account, I can only access 100 tweets a day. Those tweets are then collected, and extracted for some parameters, such as created_at, status_texts, favourites_count, retweet_count, follower_count.\n",
    "\n",
    "Tools:\n",
    "Using the Textblob library, a natural language process library in Python, the status_texts are analyzed for their polarity values and sentiments. The data is then visualized using plotly for descriptive analysis. \n",
    "\n",
    "Result:\n",
    "Overall, out of the most recent 100 tweets I've collected, roughly under 10% are negative, and the rest are split between neutral and positive, with neural tweets slightly overpowering positive tweets. There is a trend of neutral and positive tweets that receives a higher favourite counts and higher retweets, but we see significant more retweet with positive tweets. Negative tweets tend to have a high favourite_counts but very little retweets. Perhaps everyone is pushing for a positive outlook on bitcoin, but realistically find comfort in the neutral, and perhaps even negative/critical contents. "
   ]
  },
  {
   "cell_type": "code",
   "execution_count": 224,
   "metadata": {
    "collapsed": true
   },
   "outputs": [],
   "source": [
    "import pickle\n",
    "import os\n",
    "import json\n",
    "import pandas as pd"
   ]
  },
  {
   "cell_type": "markdown",
   "metadata": {},
   "source": [
    "Accessing Twitter API"
   ]
  },
  {
   "cell_type": "code",
   "execution_count": 225,
   "metadata": {
    "collapsed": false
   },
   "outputs": [],
   "source": [
    "if not os.path.exists('secret_twitter_credentials.pkl'):\n",
    "    Twitter={}\n",
    "    #Twitter['Header']='POST /1.1/statuses/update.json?include_entities=true HTTP/1.1 \\n Accept: */* \\n Connection: close \\n User-Agent: OAuth python v0.4.4 \\n Content-Type: application/x-www-form-urlencoded'\n",
    "    Twitter['Consumer Key'] = ''\n",
    "    Twitter['Consumer Secret'] = ''\n",
    "    Twitter['Access Token'] = ''\n",
    "    Twitter['Access Token Secret'] = ''\n",
    "    with open('secret_twitter_credentials.pkl','wb') as f:\n",
    "        pickle.dump(Twitter, f)\n",
    "else:\n",
    "    Twitter=pickle.load(open('secret_twitter_credentials.pkl','rb'))"
   ]
  },
  {
   "cell_type": "code",
   "execution_count": 226,
   "metadata": {
    "collapsed": false
   },
   "outputs": [
    {
     "name": "stdout",
     "output_type": "stream",
     "text": [
      "<twitter.api.Twitter object at 0x11f956710>\n"
     ]
    }
   ],
   "source": [
    "import twitter\n",
    "\n",
    "#auth = twitter.oauth.OAuth(Twitter['Access Token'],\n",
    "#                           Twitter['Access Token Secret'],\n",
    "#                           Twitter['Consumer Key'],\n",
    "#                           Twitter['Consumer Secret'])\n",
    "\n",
    "auth = twitter.oauth.OAuth('',\n",
    "                           '',\n",
    "                           '',\n",
    "                           '')\n",
    "\n",
    "twitter_api = twitter.Twitter(auth=auth)\n",
    "\n",
    "# Nothing to see by displaying twitter_api except that it's now a\n",
    "# defined variable\n",
    "\n",
    "print(twitter_api)"
   ]
  },
  {
   "cell_type": "markdown",
   "metadata": {},
   "source": [
    "## Use textblob to build a simple sentiment analysis function"
   ]
  },
  {
   "cell_type": "code",
   "execution_count": 227,
   "metadata": {
    "collapsed": false
   },
   "outputs": [],
   "source": [
    "from textblob import TextBlob\n",
    "import re\n",
    "import nltk"
   ]
  },
  {
   "cell_type": "markdown",
   "metadata": {},
   "source": [
    "Function to extract sentiments from polarity of a text"
   ]
  },
  {
   "cell_type": "code",
   "execution_count": 228,
   "metadata": {
    "collapsed": false
   },
   "outputs": [],
   "source": [
    "def get_sentiment (t):\n",
    "    s = TextBlob(t)\n",
    "    if s.sentiment.polarity > 0:\n",
    "        return 'positive'\n",
    "    elif s.sentiment.polarity == 0:\n",
    "        return 'neutral'\n",
    "    else:\n",
    "        return 'negative'\n",
    "\n",
    "def get_polarity (t):\n",
    "    s = TextBlob(t)\n",
    "    return s.sentiment.polarity"
   ]
  },
  {
   "cell_type": "markdown",
   "metadata": {},
   "source": [
    "Access Twitter REST API for tweets"
   ]
  },
  {
   "cell_type": "code",
   "execution_count": 305,
   "metadata": {
    "collapsed": false
   },
   "outputs": [
    {
     "name": "stdout",
     "output_type": "stream",
     "text": [
      "Enter topic \n",
      "crypto\n",
      "Enter number of tweets \n",
      "100\n"
     ]
    }
   ],
   "source": [
    "query = input(\"Enter topic \\n\")\n",
    "number = input(\"Enter number of tweets \\n\")"
   ]
  },
  {
   "cell_type": "code",
   "execution_count": 306,
   "metadata": {
    "collapsed": false
   },
   "outputs": [],
   "source": [
    "result=twitter_api.search.tweets(q=query, result_type='mixed', lang='en', count=number)\n",
    "statuses = result['statuses']"
   ]
  },
  {
   "cell_type": "code",
   "execution_count": 298,
   "metadata": {
    "collapsed": false
   },
   "outputs": [],
   "source": [
    "#print(result)"
   ]
  },
  {
   "cell_type": "code",
   "execution_count": 307,
   "metadata": {
    "collapsed": false
   },
   "outputs": [
    {
     "data": {
      "text/plain": [
       "98"
      ]
     },
     "execution_count": 307,
     "metadata": {},
     "output_type": "execute_result"
    }
   ],
   "source": [
    "# Check how many results were extracted\n",
    "len(statuses)"
   ]
  },
  {
   "cell_type": "code",
   "execution_count": 153,
   "metadata": {
    "collapsed": false
   },
   "outputs": [],
   "source": [
    "#Sanity check\n",
    "#print(statuses)"
   ]
  },
  {
   "cell_type": "markdown",
   "metadata": {},
   "source": [
    "Remove duplicates"
   ]
  },
  {
   "cell_type": "code",
   "execution_count": 308,
   "metadata": {
    "collapsed": true
   },
   "outputs": [],
   "source": [
    "all_text = []\n",
    "filtered_statuses = []\n",
    "for s in statuses:\n",
    "    if not s[\"text\"] in all_text:\n",
    "        filtered_statuses.append(s)\n",
    "        all_text.append(s[\"text\"])\n",
    "statuses = filtered_statuses  "
   ]
  },
  {
   "cell_type": "code",
   "execution_count": 309,
   "metadata": {
    "collapsed": false
   },
   "outputs": [
    {
     "data": {
      "text/plain": [
       "82"
      ]
     },
     "execution_count": 309,
     "metadata": {},
     "output_type": "execute_result"
    }
   ],
   "source": [
    "# Check if any duplicates were removed\n",
    "len(filtered_statuses)"
   ]
  },
  {
   "cell_type": "code",
   "execution_count": 156,
   "metadata": {
    "collapsed": false
   },
   "outputs": [],
   "source": [
    "#Show tweet status\n",
    "#[s['text'] for s in result['statuses']]"
   ]
  },
  {
   "cell_type": "code",
   "execution_count": 157,
   "metadata": {
    "collapsed": false
   },
   "outputs": [],
   "source": [
    "# Sanity Check\n",
    "#print(json.dumps(statuses[0]['user']['favourites_count'], indent=1))\n",
    "#print(json.dumps(statuses[0]['user']['followers_count'], indent=1))\n",
    "#print(json.dumps(statuses[0]['retweet_count'], indent=1))\n",
    "#print(json.dumps(statuses[0]['created_at'], indent=1))\n",
    "#print(json.dumps(statuses[0], indent=1))"
   ]
  },
  {
   "cell_type": "markdown",
   "metadata": {},
   "source": [
    "Extract favourites_count, followers_count, retweet_count, created_at and tweet status from API searches and put them into arrays"
   ]
  },
  {
   "cell_type": "code",
   "execution_count": 310,
   "metadata": {
    "collapsed": false
   },
   "outputs": [],
   "source": [
    "status_texts = [ status['text'] \n",
    "                 for status in statuses ]\n",
    "\n",
    "screen_names = [ user_mention['screen_name'] \n",
    "                 for status in statuses\n",
    "                     for user_mention in status['entities']['user_mentions'] ]\n",
    "\n",
    "hashtags = [ hashtag['text'] \n",
    "             for status in statuses\n",
    "                 for hashtag in status['entities']['hashtags'] ]\n",
    "\n",
    "favourites_count = [ status['user']['favourites_count']\n",
    "        for status in statuses]\n",
    "\n",
    "followers_count = [status['user']['followers_count']\n",
    "                      for status in statuses]\n",
    "\n",
    "retweet_count = [ status['retweet_count'] \n",
    "                 for status in statuses ]\n",
    "\n",
    "created_at = [ status['created_at'] \n",
    "                 for status in statuses ]\n",
    "# Compute a collection of all words from all tweets\n",
    "words = [ w \n",
    "          for t in status_texts \n",
    "              for w in t.split() ]"
   ]
  },
  {
   "cell_type": "code",
   "execution_count": 311,
   "metadata": {
    "collapsed": false
   },
   "outputs": [
    {
     "name": "stdout",
     "output_type": "stream",
     "text": [
      "\"George Soros is preparing to trade cryptocurrencies https://t.co/1tR9NGRUTb https://t.co/8QeX574txI\"\n",
      "\"rickyquiroz43\"\n",
      "\"crypto\"\n",
      "\"George\"\n",
      "10\n",
      "51838\n",
      "181\n",
      "\"Sun Apr 08 20:01:34 +0000 2018\"\n"
     ]
    }
   ],
   "source": [
    "# Explore the results\n",
    "\n",
    "print(json.dumps(status_texts[0], indent=1))\n",
    "print(json.dumps(screen_names[0], indent=1)) \n",
    "print(json.dumps(hashtags[0], indent=1))\n",
    "print(json.dumps(words[0], indent=1))\n",
    "print(json.dumps(favourites_count[0], indent=1))\n",
    "print(json.dumps(followers_count[0], indent=1))\n",
    "print(json.dumps(retweet_count[0], indent=1))\n",
    "print(json.dumps(created_at[0], indent=1))"
   ]
  },
  {
   "cell_type": "markdown",
   "metadata": {},
   "source": [
    "Remove links in and special character in tweet status"
   ]
  },
  {
   "cell_type": "code",
   "execution_count": 312,
   "metadata": {
    "collapsed": true
   },
   "outputs": [],
   "source": [
    "def clean_tweet(tweet):\n",
    "    '''\n",
    "    Utility function to clean the text in a tweet by removing \n",
    "    links and special characters using regex.\n",
    "    '''\n",
    "    return ' '.join(re.sub(\"(@[A-Za-z0-9]+)|([^0-9A-Za-z \\t])|(\\w+:\\/\\/\\S+)\", \" \", tweet).split())"
   ]
  },
  {
   "cell_type": "code",
   "execution_count": 313,
   "metadata": {
    "collapsed": false
   },
   "outputs": [
    {
     "name": "stdout",
     "output_type": "stream",
     "text": [
      "George Soros is preparing to trade cryptocurrencies\n"
     ]
    }
   ],
   "source": [
    "#Check the first item\n",
    "print(clean_tweet(status_texts[0]))\n",
    "\n",
    "tweet_clean=[clean_tweet(t)\n",
    "                 for t in status_texts]\n"
   ]
  },
  {
   "cell_type": "code",
   "execution_count": 314,
   "metadata": {
    "collapsed": false
   },
   "outputs": [
    {
     "name": "stdout",
     "output_type": "stream",
     "text": [
      "neutral\n"
     ]
    }
   ],
   "source": [
    "#Sentiment on the first tweet\n",
    "print(get_sentiment(clean_tweet(status_texts[0])))"
   ]
  },
  {
   "cell_type": "markdown",
   "metadata": {},
   "source": [
    "Perform sentiment analysis on all data and store sentiments and polarity values into arrays"
   ]
  },
  {
   "cell_type": "code",
   "execution_count": 315,
   "metadata": {
    "collapsed": false
   },
   "outputs": [
    {
     "name": "stdout",
     "output_type": "stream",
     "text": [
      "['neutral', 'neutral', 'neutral', 'positive', 'positive', 'neutral', 'neutral', 'positive', 'positive', 'negative', 'neutral', 'negative', 'neutral', 'positive', 'neutral', 'neutral', 'positive', 'negative', 'positive', 'neutral', 'positive', 'positive', 'positive', 'positive', 'positive', 'positive', 'positive', 'neutral', 'neutral', 'neutral', 'neutral', 'neutral', 'positive', 'positive', 'negative', 'positive', 'positive', 'neutral', 'neutral', 'neutral', 'positive', 'positive', 'neutral', 'positive', 'neutral', 'neutral', 'neutral', 'positive', 'positive', 'positive', 'positive', 'positive', 'negative', 'positive', 'positive', 'neutral', 'neutral', 'positive', 'positive', 'positive', 'negative', 'positive', 'neutral', 'positive', 'neutral', 'positive', 'neutral', 'neutral', 'positive', 'positive', 'positive', 'neutral', 'positive', 'neutral', 'positive', 'positive', 'neutral', 'positive', 'neutral', 'neutral', 'positive', 'neutral']\n",
      "[0.0, 0.0, 0.0, 0.75, 0.8, 0.0, 0.0, 0.13333333333333333, 0.5, -0.8, 0.0, -0.15555555555555559, 0.0, 0.18333333333333335, 0.0, 0.0, 0.1, -0.2, 0.5, 0.0, 0.8, 0.4, 0.4333333333333333, 0.4, 0.2866666666666666, 0.13636363636363635, 0.5, 0.0, 0.0, 0.0, 0.0, 0.0, 0.3, 0.5, -0.15625, 0.25, 0.24285714285714285, 0.0, 0.0, 0.0, 0.65, 0.11666666666666665, 0.0, 0.1, 0.0, 0.0, 0.0, 0.1, 0.3464285714285714, 0.08, 0.21212121212121213, 0.35, -0.14583333333333334, 0.23712121212121215, 0.5, 0.0, 0.0, 0.11666666666666668, 0.13636363636363635, 0.2380952380952381, -0.125, 0.13636363636363635, 0.0, 0.08333333333333333, 0.0, 0.1, 0.0, 0.0, 1.0, 0.5, 0.2, 0.0, 0.0625, 0.0, 0.5, 0.05, 0.0, 0.8, 0.0, 0.0, 0.2, 0.0]\n"
     ]
    }
   ],
   "source": [
    "tweet_sentiment = []\n",
    "for t in status_texts:\n",
    "    tweet_sentiment.append(get_sentiment(clean_tweet(t)))\n",
    "    \n",
    "print(tweet_sentiment)\n",
    "\n",
    "tweet_polarity = []\n",
    "for t in status_texts:\n",
    "    tweet_polarity.append(get_polarity(clean_tweet(t)))\n",
    "\n",
    "print(tweet_polarity)"
   ]
  },
  {
   "cell_type": "markdown",
   "metadata": {},
   "source": [
    "Construct a dataframe for the analysis"
   ]
  },
  {
   "cell_type": "code",
   "execution_count": 316,
   "metadata": {
    "collapsed": false
   },
   "outputs": [
    {
     "name": "stdout",
     "output_type": "stream",
     "text": [
      "created_at:  82 status_texts:  82 hashtags:  111 favourites_count:  82 followers_count:  82 retweet_count:  82 tweet_sentiment:  82\n"
     ]
    }
   ],
   "source": [
    "print('created_at: ', str(len(created_at)),\n",
    "      'status_texts: ', str(len(status_texts)), \n",
    "      'hashtags: ' , str(len(hashtags)), \n",
    "      'favourites_count: ', str(len(favourites_count)), \n",
    "      'followers_count: ',  str(len(followers_count)),\n",
    "      'retweet_count: ', str(len(retweet_count)),  \n",
    "      'tweet_sentiment: ', str(len(tweet_sentiment)))\n",
    "\n",
    "df = pd.DataFrame({'created_at':created_at, 'status_texts':tweet_clean, 'favourites_count':favourites_count, 'followers_count':followers_count, 'retweet_count':retweet_count, 'tweet_sentiment':tweet_sentiment, 'tweet_polarity':tweet_polarity })\n"
   ]
  },
  {
   "cell_type": "code",
   "execution_count": 317,
   "metadata": {
    "collapsed": false
   },
   "outputs": [
    {
     "name": "stdout",
     "output_type": "stream",
     "text": [
      "                       created_at  favourites_count  followers_count  \\\n",
      "0  Sun Apr 08 20:01:34 +0000 2018                10            51838   \n",
      "1  Sat Apr 07 11:06:46 +0000 2018              1647           700848   \n",
      "2  Sun Apr 08 11:45:04 +0000 2018                10            51838   \n",
      "3  Mon Apr 09 02:11:01 +0000 2018              2176              624   \n",
      "4  Mon Apr 09 02:11:01 +0000 2018               449               49   \n",
      "\n",
      "   retweet_count                                       status_texts  \\\n",
      "0            181  George Soros is preparing to trade cryptocurre...   \n",
      "1             86  How to Defend Yourself Against Pump and Dump C...   \n",
      "2             85  Blockchain has the scope to reshape securities...   \n",
      "3              1  RT XVG is forming a great cup and handle chart...   \n",
      "4              0  rand look a show my car I m so happy mom I m d...   \n",
      "\n",
      "   tweet_polarity tweet_sentiment  \n",
      "0            0.00         neutral  \n",
      "1            0.00         neutral  \n",
      "2            0.00         neutral  \n",
      "3            0.75        positive  \n",
      "4            0.80        positive  \n"
     ]
    }
   ],
   "source": [
    "#Check the first 5 rows\n",
    "print(df.head())"
   ]
  },
  {
   "cell_type": "code",
   "execution_count": 318,
   "metadata": {
    "collapsed": false
   },
   "outputs": [
    {
     "name": "stdout",
     "output_type": "stream",
     "text": [
      "                 favourites_count  followers_count  retweet_count  \\\n",
      "tweet_sentiment                                                     \n",
      "negative                    79763            28322             66   \n",
      "neutral                     79203           910300           5151   \n",
      "positive                   102003           119311          31387   \n",
      "\n",
      "                 tweet_polarity  \n",
      "tweet_sentiment                  \n",
      "negative              -1.582639  \n",
      "neutral                0.000000  \n",
      "positive              14.031548  \n",
      "tweet_sentiment\n",
      "negative     6\n",
      "neutral     34\n",
      "positive    42\n",
      "Name: favourites_count, dtype: int64\n"
     ]
    }
   ],
   "source": [
    "#Perform some simple analysis \n",
    "print(df.groupby(['tweet_sentiment']).sum())\n",
    "print(df.groupby(['tweet_sentiment'])['favourites_count'].count())"
   ]
  },
  {
   "cell_type": "markdown",
   "metadata": {},
   "source": [
    "Time to visualize the data collected and see if we can draw some insights!"
   ]
  },
  {
   "cell_type": "code",
   "execution_count": 319,
   "metadata": {
    "collapsed": false
   },
   "outputs": [
    {
     "data": {
      "text/html": [
       "<script>requirejs.config({paths: { 'plotly': ['https://cdn.plot.ly/plotly-latest.min']},});if(!window.Plotly) {{require(['plotly'],function(plotly) {window.Plotly=plotly;});}}</script>"
      ],
      "text/vnd.plotly.v1+html": [
       "<script>requirejs.config({paths: { 'plotly': ['https://cdn.plot.ly/plotly-latest.min']},});if(!window.Plotly) {{require(['plotly'],function(plotly) {window.Plotly=plotly;});}}</script>"
      ]
     },
     "metadata": {},
     "output_type": "display_data"
    }
   ],
   "source": [
    "# Import plotly\n",
    "import plotly.plotly as py\n",
    "import plotly.offline as off\n",
    "from plotly.graph_objs import Scatter, Figure, Layout\n",
    "import plotly.graph_objs as go\n",
    "off.init_notebook_mode(connected=True)\n",
    "%matplotlib inline"
   ]
  },
  {
   "cell_type": "code",
   "execution_count": 320,
   "metadata": {
    "collapsed": false
   },
   "outputs": [
    {
     "name": "stdout",
     "output_type": "stream",
     "text": [
      "                 created_at  favourites_count  followers_count  retweet_count  \\\n",
      "tweet_sentiment                                                                 \n",
      "negative                  6                 6                6              6   \n",
      "neutral                  34                34               34             34   \n",
      "positive                 42                42               42             42   \n",
      "\n",
      "                 status_texts  tweet_polarity  \n",
      "tweet_sentiment                                \n",
      "negative                    6               6  \n",
      "neutral                    34              34  \n",
      "positive                   42              42  \n"
     ]
    },
    {
     "data": {
      "text/html": [
       "<iframe id=\"igraph\" scrolling=\"no\" style=\"border:none;\" seamless=\"seamless\" src=\"https://plot.ly/~yxtzhu/20.embed\" height=\"525px\" width=\"100%\"></iframe>"
      ],
      "text/plain": [
       "<plotly.tools.PlotlyDisplay object>"
      ]
     },
     "execution_count": 320,
     "metadata": {},
     "output_type": "execute_result"
    }
   ],
   "source": [
    "#Creating a simple pie chart\n",
    "labels = ['negative', 'positive','neutral']\n",
    "print(df.groupby(['tweet_sentiment']).count())\n",
    "positive_tweet_count = df.loc[df['tweet_sentiment'] == 'positive']['status_texts'].count()\n",
    "neutral_tweet_count = df.loc[df['tweet_sentiment'] == 'neutral']['status_texts'].count()\n",
    "negative_tweet_count = df.loc[df['tweet_sentiment'] == 'negative']['status_texts'].count()\n",
    "values = [positive_tweet_count,neutral_tweet_count,negative_tweet_count]\n",
    "\n",
    "trace = go.Pie(labels=labels, values=values)\n",
    "\n",
    "py.iplot([trace], filename='basic_pie_chart')"
   ]
  },
  {
   "cell_type": "code",
   "execution_count": 323,
   "metadata": {
    "collapsed": false
   },
   "outputs": [
    {
     "data": {
      "text/html": [
       "<iframe id=\"igraph\" scrolling=\"no\" style=\"border:none;\" seamless=\"seamless\" src=\"https://plot.ly/~yxtzhu/147.embed\" height=\"525px\" width=\"100%\"></iframe>"
      ],
      "text/plain": [
       "<plotly.tools.PlotlyDisplay object>"
      ]
     },
     "execution_count": 323,
     "metadata": {},
     "output_type": "execute_result"
    }
   ],
   "source": [
    "data =[dict(\n",
    "        #type = 'scatter',\n",
    "        mode = 'markers',\n",
    "        x= df[df['tweet_sentiment']==sentiment]['favourites_count'],\n",
    "        y=df[df['tweet_sentiment']==sentiment]['retweet_count'],\n",
    "        name = sentiment, \n",
    "        #text=df['status_texts'],\n",
    "        text=df['status_texts'],\n",
    "        hoverinfo='text',\n",
    "        opacity= 0.8,\n",
    "        marker = dict(\n",
    "          size = df['retweet_count'],\n",
    "          sizemode = 'area',\n",
    "      ),\n",
    "    )for sentiment in ['positive', 'neutral', 'negative']]\n",
    "\n",
    "layout = dict(\n",
    "    title = '<b>Sentiment Analysis on Bitcoin Related Twitter Chatter</b><br>Logarithmic plot retweet_count vs. favourites_counts , size of the plot dependent on retweet_count',\n",
    "    yaxis = dict(\n",
    "        title='retweet_count',\n",
    "        type = 'log',\n",
    "    ),\n",
    "    xaxis= dict(\n",
    "        title= 'favourites_count',\n",
    "        type = 'log',\n",
    "        ticklen= 5,\n",
    "        zeroline= False,\n",
    "        gridwidth= 2,\n",
    "    ),\n",
    ")\n",
    "\n",
    "fig = dict(data=data, layout=layout)\n",
    "\n",
    "\n",
    "py.iplot(fig)"
   ]
  },
  {
   "cell_type": "markdown",
   "metadata": {},
   "source": [
    "Lastly, just for fun, let's perfom some word counts"
   ]
  },
  {
   "cell_type": "code",
   "execution_count": 246,
   "metadata": {
    "collapsed": false
   },
   "outputs": [
    {
     "name": "stdout",
     "output_type": "stream",
     "text": [
      "[('RT', 51), ('the', 36), ('to', 24), ('is', 22), ('a', 20), ('of', 16), ('I', 15), ('and', 15), ('in', 13), ('for', 13)]\n",
      "\n",
      "[('Bitcoin', 13), ('blockchain', 9), ('bitcoin', 9), ('cryptocurrency', 8), ('Airdrop', 5), ('crypto', 4), ('ICO', 4), ('Earn_Money', 4), ('Satoshi', 4), ('hodl', 3)]\n",
      "\n"
     ]
    }
   ],
   "source": [
    "from collections import Counter\n",
    "\n",
    "for item in [words, hashtags]:\n",
    "    c = Counter(item)\n",
    "    print(c.most_common()[:10]) # top 10\n",
    "    print()"
   ]
  },
  {
   "cell_type": "markdown",
   "metadata": {},
   "source": [
    "Remove stop words"
   ]
  },
  {
   "cell_type": "code",
   "execution_count": 247,
   "metadata": {
    "collapsed": true
   },
   "outputs": [],
   "source": [
    "from nltk.corpus import stopwords\n",
    "import string"
   ]
  },
  {
   "cell_type": "code",
   "execution_count": 248,
   "metadata": {
    "collapsed": true
   },
   "outputs": [],
   "source": [
    "punctuation = list(string.punctuation)\n",
    "stop = stopwords.words('english') + punctuation + ['rt', 'via', 'RT']"
   ]
  },
  {
   "cell_type": "code",
   "execution_count": 249,
   "metadata": {
    "collapsed": false
   },
   "outputs": [
    {
     "name": "stdout",
     "output_type": "stream",
     "text": [
      "[('Bitcoin', 2), ('#Bitcoin', 2), ('unforgeable', 2), ('😂', 1), ('certificates', 1), ('uooMAG:', 1), ('#Bethereum', 1), ('https://t.co/Io8RgSiYUr', 1), ('sir', 1), ('#Ethereum', 1)]\n",
      "\n",
      "[('Bitcoin', 9), ('blockchain', 6), ('bitcoin', 5), ('cryptocurrency', 4), ('crypto', 4), ('Airdrop', 4), ('ICO', 3), ('Earn_Money', 3), ('ethereum', 3), ('Satoshi', 3)]\n",
      "\n"
     ]
    }
   ],
   "source": [
    "from collections import Counter\n",
    "\n",
    "clean_words = []\n",
    "clean_hash = []\n",
    "for w, h in zip(words, hashtags):\n",
    "    if w not in stop:\n",
    "        clean_words.append(w)\n",
    "        clean_hash.append(h)\n",
    "\n",
    "for item in [clean_words, clean_hash]:\n",
    "    c = Counter(item)\n",
    "    print(c.most_common()[:10]) # top 10\n",
    "    print()"
   ]
  },
  {
   "cell_type": "code",
   "execution_count": 123,
   "metadata": {
    "collapsed": false
   },
   "outputs": [],
   "source": [
    "#print(terms_stop)"
   ]
  },
  {
   "cell_type": "code",
   "execution_count": 250,
   "metadata": {
    "collapsed": true
   },
   "outputs": [],
   "source": [
    "#Let's figure out which tweets are retweets\n",
    "retweets = [\n",
    "            # Store out a tuple of these three values ...\n",
    "            (status['retweet_count'], \n",
    "             status['retweeted_status']['user']['screen_name'],\n",
    "             status['text'].replace(\"\\n\",\"\\\\\")) \n",
    "            \n",
    "            # ... for each status ...\n",
    "            for status in statuses \n",
    "            \n",
    "            # ... so long as the status meets this condition.\n",
    "                if 'retweeted_status' in status\n",
    "           ]"
   ]
  },
  {
   "cell_type": "code",
   "execution_count": 51,
   "metadata": {
    "collapsed": false
   },
   "outputs": [],
   "source": [
    "#print(retweets)\n",
    "\n"
   ]
  },
  {
   "cell_type": "code",
   "execution_count": null,
   "metadata": {
    "collapsed": false
   },
   "outputs": [],
   "source": []
  },
  {
   "cell_type": "code",
   "execution_count": null,
   "metadata": {
    "collapsed": true
   },
   "outputs": [],
   "source": []
  }
 ],
 "metadata": {
  "anaconda-cloud": {},
  "kernelspec": {
   "display_name": "Python [Root]",
   "language": "python",
   "name": "Python [Root]"
  },
  "language_info": {
   "codemirror_mode": {
    "name": "ipython",
    "version": 3
   },
   "file_extension": ".py",
   "mimetype": "text/x-python",
   "name": "python",
   "nbconvert_exporter": "python",
   "pygments_lexer": "ipython3",
   "version": "3.5.2"
  }
 },
 "nbformat": 4,
 "nbformat_minor": 2
}

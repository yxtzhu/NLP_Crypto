{
 "cells": [
  {
   "cell_type": "markdown",
   "metadata": {},
   "source": [
    "## Bitcoin NLP Using Twitter API"
   ]
  },
  {
   "cell_type": "markdown",
   "metadata": {},
   "source": [
    "Sentiment analysis using data collected from Twitter API. What is the sentiment on a topic based on chatters over Twitter? \n",
    "\n",
    "Data:\n",
    "Due to API limitation of a standard account, I can only access 100 tweets a day. Those tweets are then collected, and extracted for some parameters, such as created_at, status_texts, favourites_count, retweet_count, follower_count.\n",
    "\n",
    "Tools:\n",
    "Using the Textblob library, a natural language process library in Python, the status_texts are analyzed for their polarity values and sentiments. The data is then visualized using plotly for descriptive analysis. \n",
    "\n",
    "Result:\n",
    "Overall, out of the most recent 100 tweets I've collected, roughly under 10% are negative, and the rest are split between neutral and positive, with neural tweets slightly overpowering positive tweets. There is a trend of neutral tweets that receives a higher favourite counts than the 2 other categories, but we see significant more retweet with positive tweets. Negative tweets tend to have a high favourite_counts but very little retweets. Perhaps everyone is pushing for a positive outlook on bitcoin, but realistically find comfort in the neutral, and perhaps even negative/critical contents. "
   ]
  },
  {
   "cell_type": "code",
   "execution_count": 3,
   "metadata": {
    "collapsed": true
   },
   "outputs": [],
   "source": [
    "import pickle\n",
    "import os\n",
    "import json\n",
    "import pandas as pd"
   ]
  },
  {
   "cell_type": "markdown",
   "metadata": {},
   "source": [
    "Accessing Twitter API"
   ]
  },
  {
   "cell_type": "code",
   "execution_count": 4,
   "metadata": {
    "collapsed": false
   },
   "outputs": [],
   "source": [
    "if not os.path.exists('secret_twitter_credentials.pkl'):\n",
    "    Twitter={}\n",
    "    #Twitter['Header']='POST /1.1/statuses/update.json?include_entities=true HTTP/1.1 \\n Accept: */* \\n Connection: close \\n User-Agent: OAuth python v0.4.4 \\n Content-Type: application/x-www-form-urlencoded'\n",
    "    Twitter['Consumer Key'] = ''\n",
    "    Twitter['Consumer Secret'] = ''\n",
    "    Twitter['Access Token'] = ''\n",
    "    Twitter['Access Token Secret'] = ''\n",
    "    with open('secret_twitter_credentials.pkl','wb') as f:\n",
    "        pickle.dump(Twitter, f)\n",
    "else:\n",
    "    Twitter=pickle.load(open('secret_twitter_credentials.pkl','rb'))"
   ]
  },
  {
   "cell_type": "code",
   "execution_count": 10,
   "metadata": {
    "collapsed": false
   },
   "outputs": [
    {
     "name": "stdout",
     "output_type": "stream",
     "text": [
      "<twitter.api.Twitter object at 0x11c815cf8>\n"
     ]
    }
   ],
   "source": [
    "import twitter\n",
    "\n",
    "#auth = twitter.oauth.OAuth(Twitter['Access Token'],\n",
    "#                           Twitter['Access Token Secret'],\n",
    "#                           Twitter['Consumer Key'],\n",
    "#                           Twitter['Consumer Secret'])\n",
    "\n",
    "auth = twitter.oauth.OAuth('978415627013533696-p3co6WWbsKixLmFmR2tuWx95EonCc9V',\n",
    "                           '73YZd44AZl7oMLRBPGpu5B9fLmMbrtT3oGPCHmgUml5Ke',\n",
    "                           'YBwanvyqqOpMPSwRTYFUVHyvp',\n",
    "                           'MUsw0KpGUcVXEhY4VH50HvZu3KiVbNa2ISjGskSxhglyv6ClkZ')\n",
    "\n",
    "twitter_api = twitter.Twitter(auth=auth)\n",
    "\n",
    "# Nothing to see by displaying twitter_api except that it's now a\n",
    "# defined variable\n",
    "\n",
    "print(twitter_api)"
   ]
  },
  {
   "cell_type": "markdown",
   "metadata": {},
   "source": [
    "## Use textblob to build a simple sentiment analysis function"
   ]
  },
  {
   "cell_type": "code",
   "execution_count": 11,
   "metadata": {
    "collapsed": false
   },
   "outputs": [],
   "source": [
    "from textblob import TextBlob\n",
    "import re\n",
    "import nltk"
   ]
  },
  {
   "cell_type": "markdown",
   "metadata": {},
   "source": [
    "Function to extract sentiments from polarity of a text"
   ]
  },
  {
   "cell_type": "code",
   "execution_count": 12,
   "metadata": {
    "collapsed": false
   },
   "outputs": [],
   "source": [
    "def get_sentiment (t):\n",
    "    s = TextBlob(t)\n",
    "    if s.sentiment.polarity > 0:\n",
    "        return 'positive'\n",
    "    elif s.sentiment.polarity == 0:\n",
    "        return 'neutral'\n",
    "    else:\n",
    "        return 'negative'\n",
    "\n",
    "def get_polarity (t):\n",
    "    s = TextBlob(t)\n",
    "    return s.sentiment.polarity"
   ]
  },
  {
   "cell_type": "markdown",
   "metadata": {},
   "source": [
    "Access Twitter REST API for tweets"
   ]
  },
  {
   "cell_type": "code",
   "execution_count": 8,
   "metadata": {
    "collapsed": false
   },
   "outputs": [
    {
     "name": "stdout",
     "output_type": "stream",
     "text": [
      "Enter topic \n",
      "bitcoin\n",
      "Enter number of tweets \n",
      "100\n"
     ]
    }
   ],
   "source": [
    "query = input(\"Enter topic \\n\")\n",
    "number = input(\"Enter number of tweets \\n\")"
   ]
  },
  {
   "cell_type": "code",
   "execution_count": 13,
   "metadata": {
    "collapsed": false
   },
   "outputs": [],
   "source": [
    "result=twitter_api.search.tweets(q=query, result_type='recent', lang='en', count=number)\n",
    "statuses = result['statuses']"
   ]
  },
  {
   "cell_type": "code",
   "execution_count": 115,
   "metadata": {
    "collapsed": false
   },
   "outputs": [],
   "source": [
    "#print(result)"
   ]
  },
  {
   "cell_type": "code",
   "execution_count": 14,
   "metadata": {
    "collapsed": false
   },
   "outputs": [
    {
     "data": {
      "text/plain": [
       "100"
      ]
     },
     "execution_count": 14,
     "metadata": {},
     "output_type": "execute_result"
    }
   ],
   "source": [
    "# Check how many results were extracted\n",
    "len(statuses)"
   ]
  },
  {
   "cell_type": "code",
   "execution_count": 117,
   "metadata": {
    "collapsed": false
   },
   "outputs": [],
   "source": [
    "#Sanity check\n",
    "#print(statuses)"
   ]
  },
  {
   "cell_type": "markdown",
   "metadata": {},
   "source": [
    "Remove duplicates"
   ]
  },
  {
   "cell_type": "code",
   "execution_count": 15,
   "metadata": {
    "collapsed": true
   },
   "outputs": [],
   "source": [
    "all_text = []\n",
    "filtered_statuses = []\n",
    "for s in statuses:\n",
    "    if not s[\"text\"] in all_text:\n",
    "        filtered_statuses.append(s)\n",
    "        all_text.append(s[\"text\"])\n",
    "statuses = filtered_statuses  "
   ]
  },
  {
   "cell_type": "code",
   "execution_count": 16,
   "metadata": {
    "collapsed": false
   },
   "outputs": [
    {
     "data": {
      "text/plain": [
       "92"
      ]
     },
     "execution_count": 16,
     "metadata": {},
     "output_type": "execute_result"
    }
   ],
   "source": [
    "# Check if any duplicates were removed\n",
    "len(filtered_statuses)"
   ]
  },
  {
   "cell_type": "code",
   "execution_count": 1,
   "metadata": {
    "collapsed": false
   },
   "outputs": [],
   "source": [
    "#Show tweet status\n",
    "#[s['text'] for s in result['statuses']]"
   ]
  },
  {
   "cell_type": "code",
   "execution_count": 2,
   "metadata": {
    "collapsed": false
   },
   "outputs": [],
   "source": [
    "# Sanity Check\n",
    "#print(json.dumps(statuses[0]['user']['favourites_count'], indent=1))\n",
    "#print(json.dumps(statuses[0]['user']['followers_count'], indent=1))\n",
    "#print(json.dumps(statuses[0]['retweet_count'], indent=1))\n",
    "#print(json.dumps(statuses[0]['created_at'], indent=1))\n",
    "#print(json.dumps(statuses[0], indent=1))"
   ]
  },
  {
   "cell_type": "markdown",
   "metadata": {},
   "source": [
    "Extract favourites_count, followers_count, retweet_count, created_at and tweet status from API searches and put them into arrays"
   ]
  },
  {
   "cell_type": "code",
   "execution_count": 17,
   "metadata": {
    "collapsed": false
   },
   "outputs": [],
   "source": [
    "status_texts = [ status['text'] \n",
    "                 for status in statuses ]\n",
    "\n",
    "screen_names = [ user_mention['screen_name'] \n",
    "                 for status in statuses\n",
    "                     for user_mention in status['entities']['user_mentions'] ]\n",
    "\n",
    "hashtags = [ hashtag['text'] \n",
    "             for status in statuses\n",
    "                 for hashtag in status['entities']['hashtags'] ]\n",
    "\n",
    "favourites_count = [ status['user']['favourites_count']\n",
    "        for status in statuses]\n",
    "\n",
    "followers_count = [status['user']['followers_count']\n",
    "                      for status in statuses]\n",
    "\n",
    "retweet_count = [ status['retweet_count'] \n",
    "                 for status in statuses ]\n",
    "\n",
    "created_at = [ status['created_at'] \n",
    "                 for status in statuses ]\n",
    "# Compute a collection of all words from all tweets\n",
    "words = [ w \n",
    "          for t in status_texts \n",
    "              for w in t.split() ]"
   ]
  },
  {
   "cell_type": "code",
   "execution_count": 18,
   "metadata": {
    "collapsed": false
   },
   "outputs": [
    {
     "name": "stdout",
     "output_type": "stream",
     "text": [
      "\"RT @KoniosOfficial: AIRDROP IS LIVE\\nGet your free KON Token now: https://t.co/cQNhnrYkS9     \\n#aidrop #ico #cryptocurrency #Crypto #TokenSa\\u2026\"\n",
      "\"KoniosOfficial\"\n",
      "\"aidrop\"\n",
      "\"RT\"\n",
      "14\n",
      "19\n",
      "3645\n",
      "\"Thu Apr 05 02:57:07 +0000 2018\"\n"
     ]
    }
   ],
   "source": [
    "# Explore the results\n",
    "\n",
    "print(json.dumps(status_texts[0], indent=1))\n",
    "print(json.dumps(screen_names[0], indent=1)) \n",
    "print(json.dumps(hashtags[0], indent=1))\n",
    "print(json.dumps(words[0], indent=1))\n",
    "print(json.dumps(favourites_count[0], indent=1))\n",
    "print(json.dumps(followers_count[0], indent=1))\n",
    "print(json.dumps(retweet_count[0], indent=1))\n",
    "print(json.dumps(created_at[0], indent=1))"
   ]
  },
  {
   "cell_type": "markdown",
   "metadata": {},
   "source": [
    "Remove links in and special character in tweet status"
   ]
  },
  {
   "cell_type": "code",
   "execution_count": 19,
   "metadata": {
    "collapsed": true
   },
   "outputs": [],
   "source": [
    "def clean_tweet(tweet):\n",
    "    '''\n",
    "    Utility function to clean the text in a tweet by removing \n",
    "    links and special characters using regex.\n",
    "    '''\n",
    "    return ' '.join(re.sub(\"(@[A-Za-z0-9]+)|([^0-9A-Za-z \\t])|(\\w+:\\/\\/\\S+)\", \" \", tweet).split())"
   ]
  },
  {
   "cell_type": "code",
   "execution_count": 27,
   "metadata": {
    "collapsed": false
   },
   "outputs": [
    {
     "name": "stdout",
     "output_type": "stream",
     "text": [
      "Copy successful traders automatically with Bitcoin I copy Dividend667 Do you\n"
     ]
    }
   ],
   "source": [
    "#Check the first item\n",
    "print(clean_tweet(status_texts[30]))"
   ]
  },
  {
   "cell_type": "code",
   "execution_count": 28,
   "metadata": {
    "collapsed": false
   },
   "outputs": [
    {
     "name": "stdout",
     "output_type": "stream",
     "text": [
      "positive\n"
     ]
    }
   ],
   "source": [
    "#Sentiment on the first tweet\n",
    "print(get_sentiment(clean_tweet(status_texts[30])))"
   ]
  },
  {
   "cell_type": "markdown",
   "metadata": {},
   "source": [
    "Perform sentiment analysis on all data and store sentiments and polarity values into arrays"
   ]
  },
  {
   "cell_type": "code",
   "execution_count": 29,
   "metadata": {
    "collapsed": false
   },
   "outputs": [
    {
     "name": "stdout",
     "output_type": "stream",
     "text": [
      "['positive', 'neutral', 'negative', 'neutral', 'neutral', 'positive', 'negative', 'positive', 'positive', 'positive', 'positive', 'positive', 'positive', 'negative', 'positive', 'neutral', 'neutral', 'positive', 'neutral', 'positive', 'neutral', 'neutral', 'positive', 'negative', 'negative', 'positive', 'neutral', 'neutral', 'neutral', 'neutral', 'positive', 'neutral', 'positive', 'neutral', 'neutral', 'neutral', 'positive', 'positive', 'neutral', 'negative', 'positive', 'neutral', 'negative', 'negative', 'positive', 'negative', 'positive', 'neutral', 'neutral', 'positive', 'neutral', 'positive', 'neutral', 'neutral', 'positive', 'positive', 'positive', 'neutral', 'neutral', 'positive', 'positive', 'positive', 'negative', 'positive', 'negative', 'positive', 'neutral', 'neutral', 'positive', 'positive', 'positive', 'negative', 'negative', 'positive', 'negative', 'neutral', 'positive', 'neutral', 'neutral', 'positive', 'neutral', 'positive', 'positive', 'positive', 'neutral', 'positive', 'negative', 'neutral', 'neutral', 'negative', 'positive', 'positive']\n",
      "[0.2681818181818182, 0.0, -0.07424242424242423, 0.0, 0.0, 0.3007575757575758, -0.5, 0.13749999999999998, 0.24444444444444444, 0.2, 0.05, 0.13636363636363635, 0.7, -0.06666666666666661, 0.35, 0.0, 0.0, 0.12222222222222223, 0.0, 0.25, 0.0, 0.0, 0.0025000000000000022, -0.4, -0.19999999999999998, 0.6000000000000001, 0.0, 0.0, 0.0, 0.0, 0.75, 0.0, 0.525, 0.0, 0.0, 0.0, 0.75, 0.06818181818181818, 0.0, -0.025, 0.4, 0.0, -0.4, -0.5, 0.6, -0.025, 0.1, 0.0, 0.0, 0.525, 0.0, 0.75, 0.0, 0.0, 0.75, 0.2, 0.06818181818181818, 0.0, 0.0, 0.17857142857142858, 0.4, 0.17857142857142858, -0.2, 0.13636363636363635, -0.2, 0.75, 0.0, 0.0, 0.1, 0.2, 0.1, -0.125, -0.125, 0.5, -0.3, 0.0, 0.5, 0.0, 0.0, 1.0, 0.0, 0.75, 0.25, 0.6000000000000001, 0.0, 0.15833333333333333, -0.0375, 0.0, 0.0, -0.025, 0.6, 0.75]\n"
     ]
    }
   ],
   "source": [
    "tweet_sentiment = []\n",
    "for t in status_texts:\n",
    "    tweet_sentiment.append(get_sentiment(clean_tweet(t)))\n",
    "    \n",
    "print(tweet_sentiment)\n",
    "\n",
    "tweet_polarity = []\n",
    "for t in status_texts:\n",
    "    tweet_polarity.append(get_polarity(clean_tweet(t)))\n",
    "\n",
    "print(tweet_polarity)"
   ]
  },
  {
   "cell_type": "markdown",
   "metadata": {},
   "source": [
    "Construct a dataframe for the analysis"
   ]
  },
  {
   "cell_type": "code",
   "execution_count": 30,
   "metadata": {
    "collapsed": false
   },
   "outputs": [
    {
     "name": "stdout",
     "output_type": "stream",
     "text": [
      "created_at:  92 status_texts:  92 hashtags:  107 favourites_count:  92 followers_count:  92 retweet_count:  92 tweet_sentiment:  92\n"
     ]
    }
   ],
   "source": [
    "print('created_at: ', str(len(created_at)),\n",
    "      'status_texts: ', str(len(status_texts)), \n",
    "      'hashtags: ' , str(len(hashtags)), \n",
    "      'favourites_count: ', str(len(favourites_count)), \n",
    "      'followers_count: ',  str(len(followers_count)),\n",
    "      'retweet_count: ', str(len(retweet_count)),  \n",
    "      'tweet_sentiment: ', str(len(tweet_sentiment)))\n",
    "\n",
    "df = pd.DataFrame({'created_at':created_at, 'status_texts':status_texts, 'favourites_count':favourites_count, 'followers_count':followers_count, 'retweet_count':retweet_count, 'tweet_sentiment':tweet_sentiment, 'tweet_polarity':tweet_polarity })\n"
   ]
  },
  {
   "cell_type": "code",
   "execution_count": 31,
   "metadata": {
    "collapsed": false
   },
   "outputs": [
    {
     "name": "stdout",
     "output_type": "stream",
     "text": [
      "                       created_at  favourites_count  followers_count  \\\n",
      "0  Thu Apr 05 02:57:07 +0000 2018                14               19   \n",
      "1  Thu Apr 05 02:57:06 +0000 2018              2945              795   \n",
      "2  Thu Apr 05 02:57:04 +0000 2018              3499              240   \n",
      "3  Thu Apr 05 02:57:02 +0000 2018             21275             1015   \n",
      "4  Thu Apr 05 02:57:01 +0000 2018               284               17   \n",
      "\n",
      "   retweet_count                                       status_texts  \\\n",
      "0           3645  RT @KoniosOfficial: AIRDROP IS LIVE\\nGet your ...   \n",
      "1             42  RT @Fisher85M: The #Blockchain Ecosystem {Info...   \n",
      "2              0  Only a dramatic and rapid capitulation will fi...   \n",
      "3              0  \" \" RAP \" \" \" \" MUSIC \" \"\\n(((((PICK ONE))))))...   \n",
      "4              1  RT @CryptoKirby: 🚀ALERT🚀\\n\\nToday's #Bitcoin S...   \n",
      "\n",
      "   tweet_polarity tweet_sentiment  \n",
      "0        0.268182        positive  \n",
      "1        0.000000         neutral  \n",
      "2       -0.074242        negative  \n",
      "3        0.000000         neutral  \n",
      "4        0.000000         neutral  \n"
     ]
    }
   ],
   "source": [
    "#Check the first 5 rows\n",
    "print(df.head())"
   ]
  },
  {
   "cell_type": "code",
   "execution_count": 32,
   "metadata": {
    "collapsed": false
   },
   "outputs": [
    {
     "name": "stdout",
     "output_type": "stream",
     "text": [
      "                 favourites_count  followers_count  retweet_count  \\\n",
      "tweet_sentiment                                                     \n",
      "negative                   475425            98380              3   \n",
      "neutral                    335815           261045           7739   \n",
      "positive                   491647           137091           8022   \n",
      "\n",
      "                 tweet_polarity  \n",
      "tweet_sentiment                  \n",
      "negative              -3.203409  \n",
      "neutral                0.000000  \n",
      "positive              16.000173  \n",
      "tweet_sentiment\n",
      "negative    16\n",
      "neutral     34\n",
      "positive    42\n",
      "Name: favourites_count, dtype: int64\n"
     ]
    }
   ],
   "source": [
    "#Perform some simple analysis \n",
    "print(df.groupby(['tweet_sentiment']).sum())\n",
    "print(df.groupby(['tweet_sentiment'])['favourites_count'].count())"
   ]
  },
  {
   "cell_type": "markdown",
   "metadata": {},
   "source": [
    "Time to visualize the data collected and see if we can draw some insights!"
   ]
  },
  {
   "cell_type": "code",
   "execution_count": 39,
   "metadata": {
    "collapsed": false
   },
   "outputs": [
    {
     "ename": "SyntaxError",
     "evalue": "invalid syntax (<ipython-input-39-8880a3996b94>, line 3)",
     "output_type": "error",
     "traceback": [
      "\u001b[0;36m  File \u001b[0;32m\"<ipython-input-39-8880a3996b94>\"\u001b[0;36m, line \u001b[0;32m3\u001b[0m\n\u001b[0;31m    from plotly.offline as off\u001b[0m\n\u001b[0m                         ^\u001b[0m\n\u001b[0;31mSyntaxError\u001b[0m\u001b[0;31m:\u001b[0m invalid syntax\n"
     ]
    }
   ],
   "source": [
    "# Import plotly\n",
    "import plotly.plotly as py\n",
    "from plotly.offline as off\n",
    "from plotly.graph_objs import Scatter, Figure, Layout\n",
    "import plotly.graph_objs as go\n",
    "init_notebook_mode(connected=True)\n",
    "%matplotlib inline"
   ]
  },
  {
   "cell_type": "code",
   "execution_count": 40,
   "metadata": {
    "collapsed": false
   },
   "outputs": [
    {
     "data": {
      "text/html": [
       "<iframe id=\"igraph\" scrolling=\"no\" style=\"border:none;\" seamless=\"seamless\" src=\"https://plot.ly/~yxtzhu/20.embed\" height=\"525px\" width=\"100%\"></iframe>"
      ],
      "text/plain": [
       "<plotly.tools.PlotlyDisplay object>"
      ]
     },
     "execution_count": 40,
     "metadata": {},
     "output_type": "execute_result"
    }
   ],
   "source": [
    "#Creating a simple pie chart\n",
    "labels = ['negative', 'positive','neutral']\n",
    "values = [8,39,45]\n",
    "\n",
    "trace = go.Pie(labels=labels, values=values)\n",
    "\n",
    "py.iplot([trace], filename='basic_pie_chart')"
   ]
  },
  {
   "cell_type": "code",
   "execution_count": 54,
   "metadata": {
    "collapsed": false
   },
   "outputs": [
    {
     "name": "stdout",
     "output_type": "stream",
     "text": [
      "[{'value': {'marker': {'color': 'blue'}}, 'target': array(['positive'], dtype=object)}, {'value': {'marker': {'color': 'orange'}}, 'target': array(['neutral'], dtype=object)}, {'value': {'marker': {'color': 'green'}}, 'target': array(['negative'], dtype=object)}]\n"
     ]
    },
    {
     "data": {
      "application/vnd.plotly.v1+json": {
       "data": [
        {
         "hoverinfo": "text",
         "marker": {
          "size": [
           3645,
           42,
           0,
           0,
           1,
           210,
           0,
           0,
           0,
           222,
           0,
           0,
           145,
           0,
           0,
           93,
           333,
           1689,
           0,
           0,
           0,
           0,
           0,
           0,
           0,
           2,
           902,
           1039,
           1,
           4569,
           0,
           0,
           53,
           0,
           0,
           52,
           0,
           0,
           359,
           0,
           2,
           1,
           0,
           0,
           171,
           2,
           6,
           0,
           0,
           0,
           13,
           0,
           2,
           1,
           0,
           149,
           0,
           123,
           29,
           0,
           2,
           0,
           0,
           3,
           0,
           0,
           0,
           0,
           0,
           0,
           0,
           0,
           0,
           0,
           1,
           0,
           0,
           0,
           0,
           1674,
           179,
           0,
           0,
           17,
           0,
           7,
           0,
           0,
           0,
           0,
           7,
           18
          ],
          "sizemode": "area"
         },
         "mode": "markers",
         "opacity": 0.8,
         "text": [
          "RT @KoniosOfficial: AIRDROP IS LIVE\nGet your free KON Token now: https://t.co/cQNhnrYkS9     \n#aidrop #ico #cryptocurrency #Crypto #TokenSa…",
          "RT @Fisher85M: The #Blockchain Ecosystem {Infographic}\n[@evankirstel] MT\n#fintech #banking #cryptocurrency @Fisher85M #bitcoin #XRP #FinSer…",
          "Only a dramatic and rapid capitulation will finally bring money in front the sidelines and new investors into crypt… https://t.co/JxcyZpqee4",
          "\" \" RAP \" \" \" \" MUSIC \" \"\n(((((PICK ONE)))))))))))))))]",
          "RT @CryptoKirby: 🚀ALERT🚀\n\nToday's #Bitcoin Strategy UPDATE:\nhttps://t.co/I3sr8deus6\n\n🚀\n$btc $ltc $eth $neo $xrp $omg $qtum $lsk $ada $dash…",
          "RT @THUGCOIN: GREAT NEWS! There is a NEW #Airdrop for our ACTIVE TRADERS!\n\nTrade #THUG on ForkDelta &amp; receive 2,5K #THUG for FREE!\n\nJust fo…",
          "Playing Online Bingo Games If you are bored and wanting to add some excitement to your life, then you should play o… https://t.co/Wv6E6VNqcM",
          "The 4 Best Craps Books The game of craps is often considered to be intimidating by players who are not familiar wit… https://t.co/TkWMzGMi6j",
          "Strongest starting hands in Texas Hold’em Poker Although strong Ace hands that aren’t AK can be worth playing some… https://t.co/PgXKHOITu8",
          "RT @datareum: Our Telegram community is growing fast! Tune in to have a chance to ask questions to founders. https://t.co/gyx3WM6KH6\n#bitco…",
          "Earn bitcoin on a daily basis!\n\n1. Follow @slidecoin \n2. Complete instructions in pinned tweet",
          "New #bitcoin block 0000000000000000000ad6ab36b62ceeb5d60a68214e97f2f8eb9c3b7d1cc0dd mined at height 516681.",
          "RT @vernamofficial: 🚀 Discover 8 good reasons why you should contribute to the Vernam project and JOIN the insurance revolution called #Ver…",
          "@BMO banning cryptocurrency purchases is a bad business decision. You are scared and it shows. This only makes me want bitcoin more.",
          "@Excellion https://t.co/Eko71242bp. More than 60 babies DIED because of gov CORRUPTION. THEY are REAL... There are… https://t.co/8QeQniLwDQ",
          "RT @LandM_Marius: Zoom out and see the big picture. Every hour we are getting closer and closer. One day it’s going to pop just like this a…",
          "RT @datareum: We are published on: https://t.co/jlsTlQSzXs \n#bitcoin #tokens #BTC #EOS #Airdrops #freetoken #Coins #ICO #BountyProgram #bou…",
          "RT @BIGMONEYMIKE6: TRADE #PENNYTOCKS ?\n\nGET READY FOR AN INSTANT CULT CLASSIC !!!!\n\nHATERS WILL BECOME BELIEVERS......\n\nWANNA TURN UR $5,00…",
          "@soulofthemachne Bitcoin or bust",
          "I drew some trend lines for Bitcoin on the daily chart. See more of what I have to say:  https://t.co/R81VvTfZl6 https://t.co/zpiTDnC46d",
          "Earn bitcoins for clicking ads https://t.co/WHU0iefHKt #bitcoin via @BTCClicks",
          "@kimsokheang1 Hello how are you doing? Have you heard about Bitcoin Mining?",
          "For the next days things can go fast with a maximum low a little bellow 6000  and a rebound above 8K . #btc $btc… https://t.co/nmZcqgdpvx",
          "fuck Bitcoin id rather invest in street cred",
          "hahaha...leadership at Ethereum have no clue how destructive this will be to them.  They literally don't know what… https://t.co/8cEmk5HsR6",
          "RT @HybridBetting: We have a growing rate on #ICOBench . That's amazing!! Check it https://t.co/6GMiK6bSjN #ICO #bitcoin #BTC #ethereum #et…",
          "RT @OpenPlatformICO: The Blockchain Future of Software Applications https://t.co/XmHR3fxfSP #OPEN #OPENPlatform #Blockchain #Bitcoin #crypto",
          "RT @twittysuch: Person: -silence-\nMe: Do y'all take PayPal?\nPerson: No.\nMe: What about bitcoin?\nPerson: We can take--\nMe: You're committing…",
          "RT @namdhtm: HTMLcoin Is The Next Bitcoin Thats Will Rise Soon By Mid Summer 2018. Crypto Financial News. https://t.co/19CaU39ck8",
          "RT @GymRewards: ONLY 5 DAYS LEFT for CURRENT BONUS!!! https://t.co/HDvhoZrz2J Come join ICO of the healthiest #ICO of 2018 via /r/GYMReward…",
          "Copy successful traders automatically with Bitcoin! 💰💰\n\nI copy \"Dividend667\". Do you?\n\n➡️ https://t.co/cm1Rjm1lf6… https://t.co/Ll56kV1Fga",
          "@vergamcurrency @vergoncurrency @vergecurrency Now i literally don't care about hack, i got my money back and even… https://t.co/rlfyWx9gpG",
          "RT @mir_btc: The first #bitcoin hat is unforgettable https://t.co/MgTQeDy1oJ",
          "Bitcoin Mules Flood China as OTC Cryptocurrency Trading Flourishes https://t.co/kAXk7s81pc https://t.co/APFpkFhdjz #cryptocurrency",
          "#Cryptocurrency: The current #Bitcoin #Pizza value! https://t.co/0DvwElGVjc",
          "RT @ValaAfshar: Born after 2003:\n\nFacebook\nTwitter \niPhone📱\niPad\nAndroid\nYouTube\nAWS\nApple App Store\nUber\nAirbnb\nBlockchain\nInstagram\nSnapc…",
          "Copy successful traders automatically with Bitcoin! 💰💰\n\nI copy \"Dividend667\". Do you?\n\n➡️ https://t.co/cm1Rjm1lf6… https://t.co/2HjP2Ykwg4",
          "News Live: Bitcoin slides below $7,000 on global trade war fears https://t.co/eZJDgOqsp3",
          "RT @lopp: If you approach Bitcoin as if it's just a:\n* currency\n* company\n* database\n* democracy\n* developer platform\n* science experiment…",
          "Long/Short Bitcoin moves with up to 100x Leverage at Bitmex! 💰🎉\n\nGet a 10% Fee Discount:\n\n▶️… https://t.co/UQcqkgo32d",
          "RT @BitSharesReview: Why it is so important to HODL in crypto\n #HODL #crypto #blockchain https://t.co/5K70UdbQqI https://t.co/n9L9Z2Cfxz",
          "RT @CollinCrypto: BREAKING: Cofounder of Korean $Crypto exchange Coinnest arrested for fraud and embezzlement. #bitcoin #ethereum https://t…",
          "The Game Isn't Over Yet For Bitcoin, Ethereum, Ripple, And Litecoin https://t.co/bc5Nt9z2qH",
          "WHAT YOU NEED TO KNOW – BITCOIN – FAKE ADS – SCAMMER ALERT - Shark Tank judges Steve Baxter and Janine Allis target… https://t.co/xXzvgcawmI",
          "RT @NamiTrade: South Korea’s Capital Is Planning to Launch Its Own Cryptocurrency. Bitcoin Foundation cofounder: Crypto isn’t in a bubble —…",
          "RT @ElixiumCrypto: Register Now &amp; go Long📈 or Short📉 on #Tech #Stocks!\n\n1 - 100x Leverage ✅\n\n▶️ https://t.co/ls0bX6Bj2u ◀️\n\nUse #Bitcoin to…",
          "RT @ButtCoin: this picture cracks me up because the crowd clearly would rather be beaten with truncheons than have to be near bitcoin enthu…",
          "@lopp #Bitcoin is like the Pet Rocks, Beanie Babies.  The value is an illusion and dissipates over time.",
          "#Cryptos are a big thing in Korea... \n#cryptocurrency #cryptomarket #cryptotrading #cryptoinvesting… https://t.co/hxttkWvVFo",
          "@thebitcoingroup @YouTube Bitcoin and binary option has made so many people rich because of a good and trusted acco… https://t.co/Ytc5VWfcUc",
          "RT @XVGWhaleReal: It's getting close to that time, throwback gif/video to when #Verge was below 200 #satoshi.\nChart looking similar now, $X…",
          "Copy successful traders automatically with Bitcoin! 💰💰\n\nI copy \"Dividend667\". Do you?\n\n➡️ https://t.co/eoWBlichSy… https://t.co/VUvIX73yT8",
          "RT @CNBCJou: #Crypto: As #bitcoin sits at key tech levels, we spoke to @Bancor co-founder @galiabenartzi abt the future: she is looking fwd…",
          "BREAKING: Cofounder of Korean $Crypto exchange Coinnest arrested for fraud and embezzlement. #bitcoin #ethereum https://t.co/XlZrLgomQS",
          "Copy successful traders automatically with Bitcoin! 💰💰\n\nI copy \"Dividend667\". Do you?\n\n➡️ https://t.co/39P5qXu8Xs… https://t.co/jUOAZnE1KA",
          "RT @MoBeetel_co: I just published “In Germany, Bitcoin Is Now Legal Tender” https://t.co/MjnTHAFQ4P",
          "Secretive Chinese Bitcoin Mining Company just announced a new specialized chip...: China… https://t.co/i5GL6pq74b",
          "RT @giveawaysBTC: Daily .05BTC &amp; Trezor hardware wallet giveaway.\n\nFollow, retweet, and like to enter. \nWinner publicly announced \n\n#bitcoi…",
          "RT @yoshitaka_kitao: Schwartz and Thomas on ILP, XRP and Discovering Bitcoin on StumbleUpon | Ripple https://t.co/10Y55G4H9P",
          "SPECIAL DISCOUNT PRICING: $0.99! Regularly priced: $3.99 $5.99. Ge https://t.co/raxmlYEiET #Cybersecurity #Bitcoin https://t.co/ldC0R0VU0e",
          "RT @btshares01: #Huobi Pro Launches BitShares (BTS) on April 2 14:30 (GMT +8)!\n\nThis is a big move for $bts! Happy Easter #BitShares commun…",
          "SPECIAL DISCOUNT PRICING: $0.99! Regularly priced: $3.99 $5.99. Ge https://t.co/hDgxBi3AQd #Cybersecurity #Bitcoin https://t.co/JDnDlhPp0r",
          "The ABA Cybersecurity Handbook: A Resource for Attorneys, Law Firm https://t.co/rhktlyhuTy #Cybersecurity #Bitcoin https://t.co/mVHduAMO0f",
          "RT @CryptoKirby: 🚀ALERT🚀\n\nLIVE Streaming\n#Bitcoin Price Predictions NOW! &gt;\n\nhttps://t.co/I3sr8deus6\n\n🚀\n$btc $ltc $eth $neo $xrp $omg $qtum…",
          "The ABA Cybersecurity Handbook: A Resource for Attorneys, Law Firm https://t.co/P2mHV3byPI #Cybersecurity #Bitcoin https://t.co/Om17OXOtUF",
          "Copy successful traders automatically with Bitcoin! 💰💰\n\nI copy \"Dividend667\". Do you?\n\n➡️ https://t.co/KbXLVMnKUP… https://t.co/4drUQEcOje",
          "The Definitive Guide to File System Analysis: Key Concepts and Han https://t.co/wHpCNpCFra #Cybersecurity #Bitcoin https://t.co/nDtD6vwXK8",
          "The Definitive Guide to File System Analysis: Key Concepts and Han https://t.co/OBmyiU1KZd #Cybersecurity #Bitcoin https://t.co/GjSRgTwABD",
          "Updated, Expanded, and released to print on 10/5/14! Complete deta https://t.co/71PusxTHf9 #Cybersecurity #Bitcoin https://t.co/9WV0fsLpdJ",
          "Join our pump group for fast bitcoin\n\nhttps://t.co/kT2nUmgwCn\n\n$MCO $LSK $RDN $BQX $DLT $GXS $KNC $EOS $CMT $WTC… https://t.co/3AIePwd5tT",
          "Updated, Expanded, and released to print on 10/5/14! Complete deta https://t.co/zYM2MtCJpa #Cybersecurity #Bitcoin https://t.co/yGoijWdqMp",
          "The Internet, as well as other telecommunication networks and info https://t.co/WgznIDtIOu #Cybersecurity #Bitcoin https://t.co/elJ6QNwLqY",
          "The Internet, as well as other telecommunication networks and info https://t.co/eB2X2e1ev8 #Cybersecurity #Bitcoin https://t.co/5wZ4hiyJam",
          "Top 5 Webhosting Companies That Accept Bitcoin Today https://t.co/lnr8o4rDEr",
          "RT @t_ruggeri: In my NANNY reboot Mr. Sheffield loses his fortune after investing in a flop sequel to CATS, so Fran has to work for Niles a…",
          "If you are seeing bitcoin price predictions for $3k - $40k, both are probably correct. It's simply a matter of adju… https://t.co/AjkyRV33dS",
          "@Blackqt19 So basically you make more money bc your altcoins value went up. So you will get that much more money in… https://t.co/ReLs3TPUbQ",
          "@junefifteen #buidl is an #ETHEREUM community play on the bitcoin phrase #HODL \n\n#hodl is in reference to holding y… https://t.co/bxrY8uLAVd",
          "C³, Germany’s Largest Crypto Conference https://t.co/0e74V61ARK \n#newsoftheweek #Bitcoin #blockchain #crypto… https://t.co/IBnOAbkDS6",
          "RT @bethereumteam: We're one of the best rated #blockchain projects on all #ICO listing websites! 🌟\nTrackICO rating: 5/5\nICOholder rating:…",
          "RT @Ripple: .@joelkatz and @justmoon had a fireside chat at #slushtokyo18 last week to talk $XRP, #ILP, the #internetofvalue and how they b…",
          "Copy successful traders automatically with Bitcoin! 💰💰\n\nI copy \"Dividend667\". Do you?\n\n➡️ https://t.co/p9FbOOJWX1… https://t.co/3R8lgGntqj",
          "Check out how much the Bitcoin Pizza is worth now https://t.co/t88lBxmHEF",
          "RT @cryptocanucks: Enter now for your chance to win a #free Ledger Nano S! Like, Retweet &amp; Follow @cryptocanucks to enter! Winner announced…",
          "Bitcoin mega sale. What's happening?",
          "RT @james_totten111: Hey guys! I'm starting a fundraiser to support research on flat earth and top in space. Let me know if you are interes…",
          "Love chart updates that mean absoeffinglutely nothing while Bitcoin falls. Umm duh all Alts including $ltc which is… https://t.co/F5nvQmbDxl",
          "@WSJ @carlquintanilla @RayDalio @lloydblankfein @CliffordAsness @davidfaber @jimcramer @CryptoHustle @paulvigna… https://t.co/Gq664xz4gX",
          "@Changelly_team Even though Bitcoin 's remittance has been completed, Lisk will not be remitted. Sending to your wa… https://t.co/dLjsVIeAD6",
          "Long/Short Bitcoin volatility with up to 100x Leverage at BitMEX!\n\n10% Fee Discount below! 🤑😍\n\n▶️… https://t.co/SxtboaIIW7",
          "RT @terrymbarnes: Banks controlling what you can and can't do with your own #money. #bitcoin #Blockchain #btc #bch #trx #neo \nhttps://t.co/…",
          "RT @ETDEUMPURITAS: Remember bitcoin lol good times"
         ],
         "transforms": [
          {
           "groups": [
            "positive",
            "neutral",
            "negative",
            "neutral",
            "neutral",
            "positive",
            "negative",
            "positive",
            "positive",
            "positive",
            "positive",
            "positive",
            "positive",
            "negative",
            "positive",
            "neutral",
            "neutral",
            "positive",
            "neutral",
            "positive",
            "neutral",
            "neutral",
            "positive",
            "negative",
            "negative",
            "positive",
            "neutral",
            "neutral",
            "neutral",
            "neutral",
            "positive",
            "neutral",
            "positive",
            "neutral",
            "neutral",
            "neutral",
            "positive",
            "positive",
            "neutral",
            "negative",
            "positive",
            "neutral",
            "negative",
            "negative",
            "positive",
            "negative",
            "positive",
            "neutral",
            "neutral",
            "positive",
            "neutral",
            "positive",
            "neutral",
            "neutral",
            "positive",
            "positive",
            "positive",
            "neutral",
            "neutral",
            "positive",
            "positive",
            "positive",
            "negative",
            "positive",
            "negative",
            "positive",
            "neutral",
            "neutral",
            "positive",
            "positive",
            "positive",
            "negative",
            "negative",
            "positive",
            "negative",
            "neutral",
            "positive",
            "neutral",
            "neutral",
            "positive",
            "neutral",
            "positive",
            "positive",
            "positive",
            "neutral",
            "positive",
            "negative",
            "neutral",
            "neutral",
            "negative",
            "positive",
            "positive"
           ],
           "styles": [
            {
             "target": [
              "positive"
             ],
             "value": {
              "marker": {
               "color": "blue"
              }
             }
            },
            {
             "target": [
              "neutral"
             ],
             "value": {
              "marker": {
               "color": "orange"
              }
             }
            },
            {
             "target": [
              "negative"
             ],
             "value": {
              "marker": {
               "color": "green"
              }
             }
            }
           ],
           "type": "groupby"
          }
         ],
         "type": "scatter",
         "x": [
          3645,
          42,
          0,
          0,
          1,
          210,
          0,
          0,
          0,
          222,
          0,
          0,
          145,
          0,
          0,
          93,
          333,
          1689,
          0,
          0,
          0,
          0,
          0,
          0,
          0,
          2,
          902,
          1039,
          1,
          4569,
          0,
          0,
          53,
          0,
          0,
          52,
          0,
          0,
          359,
          0,
          2,
          1,
          0,
          0,
          171,
          2,
          6,
          0,
          0,
          0,
          13,
          0,
          2,
          1,
          0,
          149,
          0,
          123,
          29,
          0,
          2,
          0,
          0,
          3,
          0,
          0,
          0,
          0,
          0,
          0,
          0,
          0,
          0,
          0,
          1,
          0,
          0,
          0,
          0,
          1674,
          179,
          0,
          0,
          17,
          0,
          7,
          0,
          0,
          0,
          0,
          7,
          18
         ],
         "y": [
          14,
          2945,
          3499,
          21275,
          284,
          2387,
          4710,
          4710,
          4710,
          308,
          11,
          0,
          2529,
          8662,
          69,
          24,
          7913,
          1,
          1528,
          5148,
          1,
          0,
          31,
          148289,
          23,
          1107,
          40,
          29709,
          9353,
          1749,
          0,
          0,
          1100,
          23,
          67,
          1834,
          0,
          111,
          4386,
          0,
          2795,
          1295,
          1463,
          1159,
          1429,
          944,
          20,
          17095,
          86,
          1,
          8110,
          0,
          2170,
          4793,
          0,
          1429,
          20,
          274,
          9533,
          69295,
          2795,
          67853,
          69295,
          7418,
          67853,
          0,
          69295,
          67853,
          69295,
          0,
          67853,
          69295,
          67853,
          448,
          31932,
          18022,
          4487,
          5967,
          9434,
          204,
          27422,
          0,
          33,
          8871,
          2298,
          10680,
          448,
          10818,
          219,
          0,
          0,
          154485
         ]
        }
       ],
       "layout": {
        "title": "<b>Sentiment Analysis on Bitcoin Related Twitter Chatter</b><br>Logarithmic plot favourites_counts vs retweet_count, size of the plot dependent on retweet_count",
        "xaxis": {
         "gridwidth": 2,
         "ticklen": 5,
         "title": "retweet_count",
         "zeroline": false
        },
        "yaxis": {
         "title": "favourites_count",
         "type": "log"
        }
       }
      },
      "text/html": [
       "<div id=\"4b93061f-f170-4c19-884e-9aae59bc9564\" style=\"height: 525px; width: 100%;\" class=\"plotly-graph-div\"></div><script type=\"text/javascript\">require([\"plotly\"], function(Plotly) { window.PLOTLYENV=window.PLOTLYENV || {};window.PLOTLYENV.BASE_URL=\"https://plot.ly\";Plotly.newPlot(\"4b93061f-f170-4c19-884e-9aae59bc9564\", [{\"mode\": \"markers\", \"x\": [3645, 42, 0, 0, 1, 210, 0, 0, 0, 222, 0, 0, 145, 0, 0, 93, 333, 1689, 0, 0, 0, 0, 0, 0, 0, 2, 902, 1039, 1, 4569, 0, 0, 53, 0, 0, 52, 0, 0, 359, 0, 2, 1, 0, 0, 171, 2, 6, 0, 0, 0, 13, 0, 2, 1, 0, 149, 0, 123, 29, 0, 2, 0, 0, 3, 0, 0, 0, 0, 0, 0, 0, 0, 0, 0, 1, 0, 0, 0, 0, 1674, 179, 0, 0, 17, 0, 7, 0, 0, 0, 0, 7, 18], \"type\": \"scatter\", \"hoverinfo\": \"text\", \"opacity\": 0.8, \"transforms\": [{\"groups\": [\"positive\", \"neutral\", \"negative\", \"neutral\", \"neutral\", \"positive\", \"negative\", \"positive\", \"positive\", \"positive\", \"positive\", \"positive\", \"positive\", \"negative\", \"positive\", \"neutral\", \"neutral\", \"positive\", \"neutral\", \"positive\", \"neutral\", \"neutral\", \"positive\", \"negative\", \"negative\", \"positive\", \"neutral\", \"neutral\", \"neutral\", \"neutral\", \"positive\", \"neutral\", \"positive\", \"neutral\", \"neutral\", \"neutral\", \"positive\", \"positive\", \"neutral\", \"negative\", \"positive\", \"neutral\", \"negative\", \"negative\", \"positive\", \"negative\", \"positive\", \"neutral\", \"neutral\", \"positive\", \"neutral\", \"positive\", \"neutral\", \"neutral\", \"positive\", \"positive\", \"positive\", \"neutral\", \"neutral\", \"positive\", \"positive\", \"positive\", \"negative\", \"positive\", \"negative\", \"positive\", \"neutral\", \"neutral\", \"positive\", \"positive\", \"positive\", \"negative\", \"negative\", \"positive\", \"negative\", \"neutral\", \"positive\", \"neutral\", \"neutral\", \"positive\", \"neutral\", \"positive\", \"positive\", \"positive\", \"neutral\", \"positive\", \"negative\", \"neutral\", \"neutral\", \"negative\", \"positive\", \"positive\"], \"type\": \"groupby\", \"styles\": [{\"value\": {\"marker\": {\"color\": \"blue\"}}, \"target\": [\"positive\"]}, {\"value\": {\"marker\": {\"color\": \"orange\"}}, \"target\": [\"neutral\"]}, {\"value\": {\"marker\": {\"color\": \"green\"}}, \"target\": [\"negative\"]}]}], \"text\": [\"RT @KoniosOfficial: AIRDROP IS LIVE\\nGet your free KON Token now: https://t.co/cQNhnrYkS9     \\n#aidrop #ico #cryptocurrency #Crypto #TokenSa\\u2026\", \"RT @Fisher85M: The #Blockchain Ecosystem {Infographic}\\n[@evankirstel] MT\\n#fintech #banking #cryptocurrency @Fisher85M #bitcoin #XRP #FinSer\\u2026\", \"Only a dramatic and rapid capitulation will finally bring money in front the sidelines and new investors into crypt\\u2026 https://t.co/JxcyZpqee4\", \"\\\" \\\" RAP \\\" \\\" \\\" \\\" MUSIC \\\" \\\"\\n(((((PICK ONE)))))))))))))))]\", \"RT @CryptoKirby: \\ud83d\\ude80ALERT\\ud83d\\ude80\\n\\nToday's #Bitcoin Strategy UPDATE:\\nhttps://t.co/I3sr8deus6\\n\\n\\ud83d\\ude80\\n$btc $ltc $eth $neo $xrp $omg $qtum $lsk $ada $dash\\u2026\", \"RT @THUGCOIN: GREAT NEWS! There is a NEW #Airdrop for our ACTIVE TRADERS!\\n\\nTrade #THUG on ForkDelta &amp; receive 2,5K #THUG for FREE!\\n\\nJust fo\\u2026\", \"Playing Online Bingo Games If you are bored and wanting to add some excitement to your life, then you should play o\\u2026 https://t.co/Wv6E6VNqcM\", \"The 4 Best Craps Books The game of craps is often considered to be intimidating by players who are not familiar wit\\u2026 https://t.co/TkWMzGMi6j\", \"Strongest starting hands in Texas Hold\\u2019em Poker Although strong Ace hands that aren\\u2019t AK can be worth playing some\\u2026 https://t.co/PgXKHOITu8\", \"RT @datareum: Our Telegram community is growing fast! Tune in to have a chance to ask questions to founders. https://t.co/gyx3WM6KH6\\n#bitco\\u2026\", \"Earn bitcoin on a daily basis!\\n\\n1. Follow @slidecoin \\n2. Complete instructions in pinned tweet\", \"New #bitcoin block 0000000000000000000ad6ab36b62ceeb5d60a68214e97f2f8eb9c3b7d1cc0dd mined at height 516681.\", \"RT @vernamofficial: \\ud83d\\ude80 Discover 8 good reasons why you should contribute to the Vernam project and JOIN the insurance revolution called #Ver\\u2026\", \"@BMO banning cryptocurrency purchases is a bad business decision. You are scared and it shows. This only makes me want bitcoin more.\", \"@Excellion https://t.co/Eko71242bp. More than 60 babies DIED because of gov CORRUPTION. THEY are REAL... There are\\u2026 https://t.co/8QeQniLwDQ\", \"RT @LandM_Marius: Zoom out and see the big picture. Every hour we are getting closer and closer. One day it\\u2019s going to pop just like this a\\u2026\", \"RT @datareum: We are published on: https://t.co/jlsTlQSzXs \\n#bitcoin #tokens #BTC #EOS #Airdrops #freetoken #Coins #ICO #BountyProgram #bou\\u2026\", \"RT @BIGMONEYMIKE6: TRADE #PENNYTOCKS ?\\n\\nGET READY FOR AN INSTANT CULT CLASSIC !!!!\\n\\nHATERS WILL BECOME BELIEVERS......\\n\\nWANNA TURN UR $5,00\\u2026\", \"@soulofthemachne Bitcoin or bust\", \"I drew some trend lines for Bitcoin on the daily chart. See more of what I have to say:  https://t.co/R81VvTfZl6 https://t.co/zpiTDnC46d\", \"Earn bitcoins for clicking ads https://t.co/WHU0iefHKt #bitcoin via @BTCClicks\", \"@kimsokheang1 Hello how are you doing? Have you heard about Bitcoin Mining?\", \"For the next days things can go fast with a maximum low a little bellow 6000  and a rebound above 8K . #btc $btc\\u2026 https://t.co/nmZcqgdpvx\", \"fuck Bitcoin id rather invest in street cred\", \"hahaha...leadership at Ethereum have no clue how destructive this will be to them.  They literally don't know what\\u2026 https://t.co/8cEmk5HsR6\", \"RT @HybridBetting: We have a growing rate on #ICOBench . That's amazing!! Check it https://t.co/6GMiK6bSjN #ICO #bitcoin #BTC #ethereum #et\\u2026\", \"RT @OpenPlatformICO: The Blockchain Future of Software Applications https://t.co/XmHR3fxfSP #OPEN #OPENPlatform #Blockchain #Bitcoin #crypto\", \"RT @twittysuch: Person: -silence-\\nMe: Do y'all take PayPal?\\nPerson: No.\\nMe: What about bitcoin?\\nPerson: We can take--\\nMe: You're committing\\u2026\", \"RT @namdhtm: HTMLcoin Is The Next Bitcoin Thats Will Rise Soon By Mid Summer 2018. Crypto Financial News. https://t.co/19CaU39ck8\", \"RT @GymRewards: ONLY 5 DAYS LEFT for CURRENT BONUS!!! https://t.co/HDvhoZrz2J Come join ICO of the healthiest #ICO of 2018 via /r/GYMReward\\u2026\", \"Copy successful traders automatically with Bitcoin! \\ud83d\\udcb0\\ud83d\\udcb0\\n\\nI copy \\\"Dividend667\\\". Do you?\\n\\n\\u27a1\\ufe0f https://t.co/cm1Rjm1lf6\\u2026 https://t.co/Ll56kV1Fga\", \"@vergamcurrency @vergoncurrency @vergecurrency Now i literally don't care about hack, i got my money back and even\\u2026 https://t.co/rlfyWx9gpG\", \"RT @mir_btc: The first #bitcoin hat is unforgettable https://t.co/MgTQeDy1oJ\", \"Bitcoin Mules Flood China as OTC Cryptocurrency Trading Flourishes https://t.co/kAXk7s81pc https://t.co/APFpkFhdjz #cryptocurrency\", \"#Cryptocurrency: The current #Bitcoin #Pizza value! https://t.co/0DvwElGVjc\", \"RT @ValaAfshar: Born after 2003:\\n\\nFacebook\\nTwitter \\niPhone\\ud83d\\udcf1\\niPad\\nAndroid\\nYouTube\\nAWS\\nApple App Store\\nUber\\nAirbnb\\nBlockchain\\nInstagram\\nSnapc\\u2026\", \"Copy successful traders automatically with Bitcoin! \\ud83d\\udcb0\\ud83d\\udcb0\\n\\nI copy \\\"Dividend667\\\". Do you?\\n\\n\\u27a1\\ufe0f https://t.co/cm1Rjm1lf6\\u2026 https://t.co/2HjP2Ykwg4\", \"News Live: Bitcoin slides below $7,000 on global trade war fears https://t.co/eZJDgOqsp3\", \"RT @lopp: If you approach Bitcoin as if it's just a:\\n* currency\\n* company\\n* database\\n* democracy\\n* developer platform\\n* science experiment\\u2026\", \"Long/Short Bitcoin moves with up to 100x Leverage at Bitmex! \\ud83d\\udcb0\\ud83c\\udf89\\n\\nGet a 10% Fee Discount:\\n\\n\\u25b6\\ufe0f\\u2026 https://t.co/UQcqkgo32d\", \"RT @BitSharesReview: Why it is so important to HODL in crypto\\n #HODL #crypto #blockchain https://t.co/5K70UdbQqI https://t.co/n9L9Z2Cfxz\", \"RT @CollinCrypto: BREAKING: Cofounder of Korean $Crypto exchange Coinnest arrested for fraud and embezzlement. #bitcoin #ethereum https://t\\u2026\", \"The Game Isn't Over Yet For Bitcoin, Ethereum, Ripple, And Litecoin https://t.co/bc5Nt9z2qH\", \"WHAT YOU NEED TO KNOW \\u2013 BITCOIN \\u2013 FAKE ADS \\u2013 SCAMMER ALERT - Shark Tank judges Steve Baxter and Janine Allis target\\u2026 https://t.co/xXzvgcawmI\", \"RT @NamiTrade: South Korea\\u2019s Capital Is Planning to Launch Its Own Cryptocurrency. Bitcoin Foundation cofounder: Crypto isn\\u2019t in a bubble \\u2014\\u2026\", \"RT @ElixiumCrypto: Register Now &amp; go Long\\ud83d\\udcc8 or Short\\ud83d\\udcc9 on #Tech #Stocks!\\n\\n1 - 100x Leverage \\u2705\\n\\n\\u25b6\\ufe0f https://t.co/ls0bX6Bj2u \\u25c0\\ufe0f\\n\\nUse #Bitcoin to\\u2026\", \"RT @ButtCoin: this picture cracks me up because the crowd clearly would rather be beaten with truncheons than have to be near bitcoin enthu\\u2026\", \"@lopp #Bitcoin is like the Pet Rocks, Beanie Babies.  The value is an illusion and dissipates over time.\", \"#Cryptos are a big thing in Korea... \\n#cryptocurrency #cryptomarket #cryptotrading #cryptoinvesting\\u2026 https://t.co/hxttkWvVFo\", \"@thebitcoingroup @YouTube Bitcoin and binary option has made so many people rich because of a good and trusted acco\\u2026 https://t.co/Ytc5VWfcUc\", \"RT @XVGWhaleReal: It's getting close to that time, throwback gif/video to when #Verge was below 200 #satoshi.\\nChart looking similar now, $X\\u2026\", \"Copy successful traders automatically with Bitcoin! \\ud83d\\udcb0\\ud83d\\udcb0\\n\\nI copy \\\"Dividend667\\\". Do you?\\n\\n\\u27a1\\ufe0f https://t.co/eoWBlichSy\\u2026 https://t.co/VUvIX73yT8\", \"RT @CNBCJou: #Crypto: As #bitcoin sits at key tech levels, we spoke to @Bancor co-founder @galiabenartzi abt the future: she is looking fwd\\u2026\", \"BREAKING: Cofounder of Korean $Crypto exchange Coinnest arrested for fraud and embezzlement. #bitcoin #ethereum https://t.co/XlZrLgomQS\", \"Copy successful traders automatically with Bitcoin! \\ud83d\\udcb0\\ud83d\\udcb0\\n\\nI copy \\\"Dividend667\\\". Do you?\\n\\n\\u27a1\\ufe0f https://t.co/39P5qXu8Xs\\u2026 https://t.co/jUOAZnE1KA\", \"RT @MoBeetel_co: I just published \\u201cIn Germany, Bitcoin Is Now Legal Tender\\u201d https://t.co/MjnTHAFQ4P\", \"Secretive Chinese Bitcoin Mining Company just announced a new specialized chip...: China\\u2026 https://t.co/i5GL6pq74b\", \"RT @giveawaysBTC: Daily .05BTC &amp; Trezor hardware wallet giveaway.\\n\\nFollow, retweet, and like to enter. \\nWinner publicly announced \\n\\n#bitcoi\\u2026\", \"RT @yoshitaka_kitao: Schwartz and Thomas on ILP, XRP and Discovering Bitcoin on StumbleUpon | Ripple https://t.co/10Y55G4H9P\", \"SPECIAL DISCOUNT PRICING: $0.99! Regularly priced: $3.99 $5.99. Ge https://t.co/raxmlYEiET #Cybersecurity #Bitcoin https://t.co/ldC0R0VU0e\", \"RT @btshares01: #Huobi Pro Launches BitShares (BTS) on April 2 14:30 (GMT +8)!\\n\\nThis is a big move for $bts! Happy Easter #BitShares commun\\u2026\", \"SPECIAL DISCOUNT PRICING: $0.99! Regularly priced: $3.99 $5.99. Ge https://t.co/hDgxBi3AQd #Cybersecurity #Bitcoin https://t.co/JDnDlhPp0r\", \"The ABA Cybersecurity Handbook: A Resource for Attorneys, Law Firm https://t.co/rhktlyhuTy #Cybersecurity #Bitcoin https://t.co/mVHduAMO0f\", \"RT @CryptoKirby: \\ud83d\\ude80ALERT\\ud83d\\ude80\\n\\nLIVE Streaming\\n#Bitcoin Price Predictions NOW! &gt;\\n\\nhttps://t.co/I3sr8deus6\\n\\n\\ud83d\\ude80\\n$btc $ltc $eth $neo $xrp $omg $qtum\\u2026\", \"The ABA Cybersecurity Handbook: A Resource for Attorneys, Law Firm https://t.co/P2mHV3byPI #Cybersecurity #Bitcoin https://t.co/Om17OXOtUF\", \"Copy successful traders automatically with Bitcoin! \\ud83d\\udcb0\\ud83d\\udcb0\\n\\nI copy \\\"Dividend667\\\". Do you?\\n\\n\\u27a1\\ufe0f https://t.co/KbXLVMnKUP\\u2026 https://t.co/4drUQEcOje\", \"The Definitive Guide to File System Analysis: Key Concepts and Han https://t.co/wHpCNpCFra #Cybersecurity #Bitcoin https://t.co/nDtD6vwXK8\", \"The Definitive Guide to File System Analysis: Key Concepts and Han https://t.co/OBmyiU1KZd #Cybersecurity #Bitcoin https://t.co/GjSRgTwABD\", \"Updated, Expanded, and released to print on 10/5/14! Complete deta https://t.co/71PusxTHf9 #Cybersecurity #Bitcoin https://t.co/9WV0fsLpdJ\", \"Join our pump group for fast bitcoin\\n\\nhttps://t.co/kT2nUmgwCn\\n\\n$MCO $LSK $RDN $BQX $DLT $GXS $KNC $EOS $CMT $WTC\\u2026 https://t.co/3AIePwd5tT\", \"Updated, Expanded, and released to print on 10/5/14! Complete deta https://t.co/zYM2MtCJpa #Cybersecurity #Bitcoin https://t.co/yGoijWdqMp\", \"The Internet, as well as other telecommunication networks and info https://t.co/WgznIDtIOu #Cybersecurity #Bitcoin https://t.co/elJ6QNwLqY\", \"The Internet, as well as other telecommunication networks and info https://t.co/eB2X2e1ev8 #Cybersecurity #Bitcoin https://t.co/5wZ4hiyJam\", \"Top 5 Webhosting Companies That Accept Bitcoin Today https://t.co/lnr8o4rDEr\", \"RT @t_ruggeri: In my NANNY reboot Mr. Sheffield loses his fortune after investing in a flop sequel to CATS, so Fran has to work for Niles a\\u2026\", \"If you are seeing bitcoin price predictions for $3k - $40k, both are probably correct. It's simply a matter of adju\\u2026 https://t.co/AjkyRV33dS\", \"@Blackqt19 So basically you make more money bc your altcoins value went up. So you will get that much more money in\\u2026 https://t.co/ReLs3TPUbQ\", \"@junefifteen #buidl is an #ETHEREUM community play on the bitcoin phrase #HODL \\n\\n#hodl is in reference to holding y\\u2026 https://t.co/bxrY8uLAVd\", \"C\\u00b3, Germany\\u2019s Largest Crypto Conference https://t.co/0e74V61ARK \\n#newsoftheweek #Bitcoin #blockchain #crypto\\u2026 https://t.co/IBnOAbkDS6\", \"RT @bethereumteam: We're one of the best rated #blockchain projects on all #ICO listing websites! \\ud83c\\udf1f\\nTrackICO rating: 5/5\\nICOholder rating:\\u2026\", \"RT @Ripple: .@joelkatz and @justmoon had a fireside chat at #slushtokyo18 last week to talk $XRP, #ILP, the #internetofvalue and how they b\\u2026\", \"Copy successful traders automatically with Bitcoin! \\ud83d\\udcb0\\ud83d\\udcb0\\n\\nI copy \\\"Dividend667\\\". Do you?\\n\\n\\u27a1\\ufe0f https://t.co/p9FbOOJWX1\\u2026 https://t.co/3R8lgGntqj\", \"Check out how much the Bitcoin Pizza is worth now https://t.co/t88lBxmHEF\", \"RT @cryptocanucks: Enter now for your chance to win a #free Ledger Nano S! Like, Retweet &amp; Follow @cryptocanucks to enter! Winner announced\\u2026\", \"Bitcoin mega sale. What's happening?\", \"RT @james_totten111: Hey guys! I'm starting a fundraiser to support research on flat earth and top in space. Let me know if you are interes\\u2026\", \"Love chart updates that mean absoeffinglutely nothing while Bitcoin falls. Umm duh all Alts including $ltc which is\\u2026 https://t.co/F5nvQmbDxl\", \"@WSJ @carlquintanilla @RayDalio @lloydblankfein @CliffordAsness @davidfaber @jimcramer @CryptoHustle @paulvigna\\u2026 https://t.co/Gq664xz4gX\", \"@Changelly_team Even though Bitcoin 's remittance has been completed, Lisk will not be remitted. Sending to your wa\\u2026 https://t.co/dLjsVIeAD6\", \"Long/Short Bitcoin volatility with up to 100x Leverage at BitMEX!\\n\\n10% Fee Discount below! \\ud83e\\udd11\\ud83d\\ude0d\\n\\n\\u25b6\\ufe0f\\u2026 https://t.co/SxtboaIIW7\", \"RT @terrymbarnes: Banks controlling what you can and can't do with your own #money. #bitcoin #Blockchain #btc #bch #trx #neo \\nhttps://t.co/\\u2026\", \"RT @ETDEUMPURITAS: Remember bitcoin lol good times\"], \"y\": [14, 2945, 3499, 21275, 284, 2387, 4710, 4710, 4710, 308, 11, 0, 2529, 8662, 69, 24, 7913, 1, 1528, 5148, 1, 0, 31, 148289, 23, 1107, 40, 29709, 9353, 1749, 0, 0, 1100, 23, 67, 1834, 0, 111, 4386, 0, 2795, 1295, 1463, 1159, 1429, 944, 20, 17095, 86, 1, 8110, 0, 2170, 4793, 0, 1429, 20, 274, 9533, 69295, 2795, 67853, 69295, 7418, 67853, 0, 69295, 67853, 69295, 0, 67853, 69295, 67853, 448, 31932, 18022, 4487, 5967, 9434, 204, 27422, 0, 33, 8871, 2298, 10680, 448, 10818, 219, 0, 0, 154485], \"marker\": {\"sizemode\": \"area\", \"size\": [3645, 42, 0, 0, 1, 210, 0, 0, 0, 222, 0, 0, 145, 0, 0, 93, 333, 1689, 0, 0, 0, 0, 0, 0, 0, 2, 902, 1039, 1, 4569, 0, 0, 53, 0, 0, 52, 0, 0, 359, 0, 2, 1, 0, 0, 171, 2, 6, 0, 0, 0, 13, 0, 2, 1, 0, 149, 0, 123, 29, 0, 2, 0, 0, 3, 0, 0, 0, 0, 0, 0, 0, 0, 0, 0, 1, 0, 0, 0, 0, 1674, 179, 0, 0, 17, 0, 7, 0, 0, 0, 0, 7, 18]}}], {\"title\": \"<b>Sentiment Analysis on Bitcoin Related Twitter Chatter</b><br>Logarithmic plot favourites_counts vs retweet_count, size of the plot dependent on retweet_count\", \"yaxis\": {\"type\": \"log\", \"title\": \"favourites_count\"}, \"xaxis\": {\"ticklen\": 5, \"title\": \"retweet_count\", \"zeroline\": false, \"gridwidth\": 2}}, {\"showLink\": true, \"linkText\": \"Export to plot.ly\"})});</script>"
      ],
      "text/vnd.plotly.v1+html": [
       "<div id=\"4b93061f-f170-4c19-884e-9aae59bc9564\" style=\"height: 525px; width: 100%;\" class=\"plotly-graph-div\"></div><script type=\"text/javascript\">require([\"plotly\"], function(Plotly) { window.PLOTLYENV=window.PLOTLYENV || {};window.PLOTLYENV.BASE_URL=\"https://plot.ly\";Plotly.newPlot(\"4b93061f-f170-4c19-884e-9aae59bc9564\", [{\"mode\": \"markers\", \"x\": [3645, 42, 0, 0, 1, 210, 0, 0, 0, 222, 0, 0, 145, 0, 0, 93, 333, 1689, 0, 0, 0, 0, 0, 0, 0, 2, 902, 1039, 1, 4569, 0, 0, 53, 0, 0, 52, 0, 0, 359, 0, 2, 1, 0, 0, 171, 2, 6, 0, 0, 0, 13, 0, 2, 1, 0, 149, 0, 123, 29, 0, 2, 0, 0, 3, 0, 0, 0, 0, 0, 0, 0, 0, 0, 0, 1, 0, 0, 0, 0, 1674, 179, 0, 0, 17, 0, 7, 0, 0, 0, 0, 7, 18], \"type\": \"scatter\", \"hoverinfo\": \"text\", \"opacity\": 0.8, \"transforms\": [{\"groups\": [\"positive\", \"neutral\", \"negative\", \"neutral\", \"neutral\", \"positive\", \"negative\", \"positive\", \"positive\", \"positive\", \"positive\", \"positive\", \"positive\", \"negative\", \"positive\", \"neutral\", \"neutral\", \"positive\", \"neutral\", \"positive\", \"neutral\", \"neutral\", \"positive\", \"negative\", \"negative\", \"positive\", \"neutral\", \"neutral\", \"neutral\", \"neutral\", \"positive\", \"neutral\", \"positive\", \"neutral\", \"neutral\", \"neutral\", \"positive\", \"positive\", \"neutral\", \"negative\", \"positive\", \"neutral\", \"negative\", \"negative\", \"positive\", \"negative\", \"positive\", \"neutral\", \"neutral\", \"positive\", \"neutral\", \"positive\", \"neutral\", \"neutral\", \"positive\", \"positive\", \"positive\", \"neutral\", \"neutral\", \"positive\", \"positive\", \"positive\", \"negative\", \"positive\", \"negative\", \"positive\", \"neutral\", \"neutral\", \"positive\", \"positive\", \"positive\", \"negative\", \"negative\", \"positive\", \"negative\", \"neutral\", \"positive\", \"neutral\", \"neutral\", \"positive\", \"neutral\", \"positive\", \"positive\", \"positive\", \"neutral\", \"positive\", \"negative\", \"neutral\", \"neutral\", \"negative\", \"positive\", \"positive\"], \"type\": \"groupby\", \"styles\": [{\"value\": {\"marker\": {\"color\": \"blue\"}}, \"target\": [\"positive\"]}, {\"value\": {\"marker\": {\"color\": \"orange\"}}, \"target\": [\"neutral\"]}, {\"value\": {\"marker\": {\"color\": \"green\"}}, \"target\": [\"negative\"]}]}], \"text\": [\"RT @KoniosOfficial: AIRDROP IS LIVE\\nGet your free KON Token now: https://t.co/cQNhnrYkS9     \\n#aidrop #ico #cryptocurrency #Crypto #TokenSa\\u2026\", \"RT @Fisher85M: The #Blockchain Ecosystem {Infographic}\\n[@evankirstel] MT\\n#fintech #banking #cryptocurrency @Fisher85M #bitcoin #XRP #FinSer\\u2026\", \"Only a dramatic and rapid capitulation will finally bring money in front the sidelines and new investors into crypt\\u2026 https://t.co/JxcyZpqee4\", \"\\\" \\\" RAP \\\" \\\" \\\" \\\" MUSIC \\\" \\\"\\n(((((PICK ONE)))))))))))))))]\", \"RT @CryptoKirby: \\ud83d\\ude80ALERT\\ud83d\\ude80\\n\\nToday's #Bitcoin Strategy UPDATE:\\nhttps://t.co/I3sr8deus6\\n\\n\\ud83d\\ude80\\n$btc $ltc $eth $neo $xrp $omg $qtum $lsk $ada $dash\\u2026\", \"RT @THUGCOIN: GREAT NEWS! There is a NEW #Airdrop for our ACTIVE TRADERS!\\n\\nTrade #THUG on ForkDelta &amp; receive 2,5K #THUG for FREE!\\n\\nJust fo\\u2026\", \"Playing Online Bingo Games If you are bored and wanting to add some excitement to your life, then you should play o\\u2026 https://t.co/Wv6E6VNqcM\", \"The 4 Best Craps Books The game of craps is often considered to be intimidating by players who are not familiar wit\\u2026 https://t.co/TkWMzGMi6j\", \"Strongest starting hands in Texas Hold\\u2019em Poker Although strong Ace hands that aren\\u2019t AK can be worth playing some\\u2026 https://t.co/PgXKHOITu8\", \"RT @datareum: Our Telegram community is growing fast! Tune in to have a chance to ask questions to founders. https://t.co/gyx3WM6KH6\\n#bitco\\u2026\", \"Earn bitcoin on a daily basis!\\n\\n1. Follow @slidecoin \\n2. Complete instructions in pinned tweet\", \"New #bitcoin block 0000000000000000000ad6ab36b62ceeb5d60a68214e97f2f8eb9c3b7d1cc0dd mined at height 516681.\", \"RT @vernamofficial: \\ud83d\\ude80 Discover 8 good reasons why you should contribute to the Vernam project and JOIN the insurance revolution called #Ver\\u2026\", \"@BMO banning cryptocurrency purchases is a bad business decision. You are scared and it shows. This only makes me want bitcoin more.\", \"@Excellion https://t.co/Eko71242bp. More than 60 babies DIED because of gov CORRUPTION. THEY are REAL... There are\\u2026 https://t.co/8QeQniLwDQ\", \"RT @LandM_Marius: Zoom out and see the big picture. Every hour we are getting closer and closer. One day it\\u2019s going to pop just like this a\\u2026\", \"RT @datareum: We are published on: https://t.co/jlsTlQSzXs \\n#bitcoin #tokens #BTC #EOS #Airdrops #freetoken #Coins #ICO #BountyProgram #bou\\u2026\", \"RT @BIGMONEYMIKE6: TRADE #PENNYTOCKS ?\\n\\nGET READY FOR AN INSTANT CULT CLASSIC !!!!\\n\\nHATERS WILL BECOME BELIEVERS......\\n\\nWANNA TURN UR $5,00\\u2026\", \"@soulofthemachne Bitcoin or bust\", \"I drew some trend lines for Bitcoin on the daily chart. See more of what I have to say:  https://t.co/R81VvTfZl6 https://t.co/zpiTDnC46d\", \"Earn bitcoins for clicking ads https://t.co/WHU0iefHKt #bitcoin via @BTCClicks\", \"@kimsokheang1 Hello how are you doing? Have you heard about Bitcoin Mining?\", \"For the next days things can go fast with a maximum low a little bellow 6000  and a rebound above 8K . #btc $btc\\u2026 https://t.co/nmZcqgdpvx\", \"fuck Bitcoin id rather invest in street cred\", \"hahaha...leadership at Ethereum have no clue how destructive this will be to them.  They literally don't know what\\u2026 https://t.co/8cEmk5HsR6\", \"RT @HybridBetting: We have a growing rate on #ICOBench . That's amazing!! Check it https://t.co/6GMiK6bSjN #ICO #bitcoin #BTC #ethereum #et\\u2026\", \"RT @OpenPlatformICO: The Blockchain Future of Software Applications https://t.co/XmHR3fxfSP #OPEN #OPENPlatform #Blockchain #Bitcoin #crypto\", \"RT @twittysuch: Person: -silence-\\nMe: Do y'all take PayPal?\\nPerson: No.\\nMe: What about bitcoin?\\nPerson: We can take--\\nMe: You're committing\\u2026\", \"RT @namdhtm: HTMLcoin Is The Next Bitcoin Thats Will Rise Soon By Mid Summer 2018. Crypto Financial News. https://t.co/19CaU39ck8\", \"RT @GymRewards: ONLY 5 DAYS LEFT for CURRENT BONUS!!! https://t.co/HDvhoZrz2J Come join ICO of the healthiest #ICO of 2018 via /r/GYMReward\\u2026\", \"Copy successful traders automatically with Bitcoin! \\ud83d\\udcb0\\ud83d\\udcb0\\n\\nI copy \\\"Dividend667\\\". Do you?\\n\\n\\u27a1\\ufe0f https://t.co/cm1Rjm1lf6\\u2026 https://t.co/Ll56kV1Fga\", \"@vergamcurrency @vergoncurrency @vergecurrency Now i literally don't care about hack, i got my money back and even\\u2026 https://t.co/rlfyWx9gpG\", \"RT @mir_btc: The first #bitcoin hat is unforgettable https://t.co/MgTQeDy1oJ\", \"Bitcoin Mules Flood China as OTC Cryptocurrency Trading Flourishes https://t.co/kAXk7s81pc https://t.co/APFpkFhdjz #cryptocurrency\", \"#Cryptocurrency: The current #Bitcoin #Pizza value! https://t.co/0DvwElGVjc\", \"RT @ValaAfshar: Born after 2003:\\n\\nFacebook\\nTwitter \\niPhone\\ud83d\\udcf1\\niPad\\nAndroid\\nYouTube\\nAWS\\nApple App Store\\nUber\\nAirbnb\\nBlockchain\\nInstagram\\nSnapc\\u2026\", \"Copy successful traders automatically with Bitcoin! \\ud83d\\udcb0\\ud83d\\udcb0\\n\\nI copy \\\"Dividend667\\\". Do you?\\n\\n\\u27a1\\ufe0f https://t.co/cm1Rjm1lf6\\u2026 https://t.co/2HjP2Ykwg4\", \"News Live: Bitcoin slides below $7,000 on global trade war fears https://t.co/eZJDgOqsp3\", \"RT @lopp: If you approach Bitcoin as if it's just a:\\n* currency\\n* company\\n* database\\n* democracy\\n* developer platform\\n* science experiment\\u2026\", \"Long/Short Bitcoin moves with up to 100x Leverage at Bitmex! \\ud83d\\udcb0\\ud83c\\udf89\\n\\nGet a 10% Fee Discount:\\n\\n\\u25b6\\ufe0f\\u2026 https://t.co/UQcqkgo32d\", \"RT @BitSharesReview: Why it is so important to HODL in crypto\\n #HODL #crypto #blockchain https://t.co/5K70UdbQqI https://t.co/n9L9Z2Cfxz\", \"RT @CollinCrypto: BREAKING: Cofounder of Korean $Crypto exchange Coinnest arrested for fraud and embezzlement. #bitcoin #ethereum https://t\\u2026\", \"The Game Isn't Over Yet For Bitcoin, Ethereum, Ripple, And Litecoin https://t.co/bc5Nt9z2qH\", \"WHAT YOU NEED TO KNOW \\u2013 BITCOIN \\u2013 FAKE ADS \\u2013 SCAMMER ALERT - Shark Tank judges Steve Baxter and Janine Allis target\\u2026 https://t.co/xXzvgcawmI\", \"RT @NamiTrade: South Korea\\u2019s Capital Is Planning to Launch Its Own Cryptocurrency. Bitcoin Foundation cofounder: Crypto isn\\u2019t in a bubble \\u2014\\u2026\", \"RT @ElixiumCrypto: Register Now &amp; go Long\\ud83d\\udcc8 or Short\\ud83d\\udcc9 on #Tech #Stocks!\\n\\n1 - 100x Leverage \\u2705\\n\\n\\u25b6\\ufe0f https://t.co/ls0bX6Bj2u \\u25c0\\ufe0f\\n\\nUse #Bitcoin to\\u2026\", \"RT @ButtCoin: this picture cracks me up because the crowd clearly would rather be beaten with truncheons than have to be near bitcoin enthu\\u2026\", \"@lopp #Bitcoin is like the Pet Rocks, Beanie Babies.  The value is an illusion and dissipates over time.\", \"#Cryptos are a big thing in Korea... \\n#cryptocurrency #cryptomarket #cryptotrading #cryptoinvesting\\u2026 https://t.co/hxttkWvVFo\", \"@thebitcoingroup @YouTube Bitcoin and binary option has made so many people rich because of a good and trusted acco\\u2026 https://t.co/Ytc5VWfcUc\", \"RT @XVGWhaleReal: It's getting close to that time, throwback gif/video to when #Verge was below 200 #satoshi.\\nChart looking similar now, $X\\u2026\", \"Copy successful traders automatically with Bitcoin! \\ud83d\\udcb0\\ud83d\\udcb0\\n\\nI copy \\\"Dividend667\\\". Do you?\\n\\n\\u27a1\\ufe0f https://t.co/eoWBlichSy\\u2026 https://t.co/VUvIX73yT8\", \"RT @CNBCJou: #Crypto: As #bitcoin sits at key tech levels, we spoke to @Bancor co-founder @galiabenartzi abt the future: she is looking fwd\\u2026\", \"BREAKING: Cofounder of Korean $Crypto exchange Coinnest arrested for fraud and embezzlement. #bitcoin #ethereum https://t.co/XlZrLgomQS\", \"Copy successful traders automatically with Bitcoin! \\ud83d\\udcb0\\ud83d\\udcb0\\n\\nI copy \\\"Dividend667\\\". Do you?\\n\\n\\u27a1\\ufe0f https://t.co/39P5qXu8Xs\\u2026 https://t.co/jUOAZnE1KA\", \"RT @MoBeetel_co: I just published \\u201cIn Germany, Bitcoin Is Now Legal Tender\\u201d https://t.co/MjnTHAFQ4P\", \"Secretive Chinese Bitcoin Mining Company just announced a new specialized chip...: China\\u2026 https://t.co/i5GL6pq74b\", \"RT @giveawaysBTC: Daily .05BTC &amp; Trezor hardware wallet giveaway.\\n\\nFollow, retweet, and like to enter. \\nWinner publicly announced \\n\\n#bitcoi\\u2026\", \"RT @yoshitaka_kitao: Schwartz and Thomas on ILP, XRP and Discovering Bitcoin on StumbleUpon | Ripple https://t.co/10Y55G4H9P\", \"SPECIAL DISCOUNT PRICING: $0.99! Regularly priced: $3.99 $5.99. Ge https://t.co/raxmlYEiET #Cybersecurity #Bitcoin https://t.co/ldC0R0VU0e\", \"RT @btshares01: #Huobi Pro Launches BitShares (BTS) on April 2 14:30 (GMT +8)!\\n\\nThis is a big move for $bts! Happy Easter #BitShares commun\\u2026\", \"SPECIAL DISCOUNT PRICING: $0.99! Regularly priced: $3.99 $5.99. Ge https://t.co/hDgxBi3AQd #Cybersecurity #Bitcoin https://t.co/JDnDlhPp0r\", \"The ABA Cybersecurity Handbook: A Resource for Attorneys, Law Firm https://t.co/rhktlyhuTy #Cybersecurity #Bitcoin https://t.co/mVHduAMO0f\", \"RT @CryptoKirby: \\ud83d\\ude80ALERT\\ud83d\\ude80\\n\\nLIVE Streaming\\n#Bitcoin Price Predictions NOW! &gt;\\n\\nhttps://t.co/I3sr8deus6\\n\\n\\ud83d\\ude80\\n$btc $ltc $eth $neo $xrp $omg $qtum\\u2026\", \"The ABA Cybersecurity Handbook: A Resource for Attorneys, Law Firm https://t.co/P2mHV3byPI #Cybersecurity #Bitcoin https://t.co/Om17OXOtUF\", \"Copy successful traders automatically with Bitcoin! \\ud83d\\udcb0\\ud83d\\udcb0\\n\\nI copy \\\"Dividend667\\\". Do you?\\n\\n\\u27a1\\ufe0f https://t.co/KbXLVMnKUP\\u2026 https://t.co/4drUQEcOje\", \"The Definitive Guide to File System Analysis: Key Concepts and Han https://t.co/wHpCNpCFra #Cybersecurity #Bitcoin https://t.co/nDtD6vwXK8\", \"The Definitive Guide to File System Analysis: Key Concepts and Han https://t.co/OBmyiU1KZd #Cybersecurity #Bitcoin https://t.co/GjSRgTwABD\", \"Updated, Expanded, and released to print on 10/5/14! Complete deta https://t.co/71PusxTHf9 #Cybersecurity #Bitcoin https://t.co/9WV0fsLpdJ\", \"Join our pump group for fast bitcoin\\n\\nhttps://t.co/kT2nUmgwCn\\n\\n$MCO $LSK $RDN $BQX $DLT $GXS $KNC $EOS $CMT $WTC\\u2026 https://t.co/3AIePwd5tT\", \"Updated, Expanded, and released to print on 10/5/14! Complete deta https://t.co/zYM2MtCJpa #Cybersecurity #Bitcoin https://t.co/yGoijWdqMp\", \"The Internet, as well as other telecommunication networks and info https://t.co/WgznIDtIOu #Cybersecurity #Bitcoin https://t.co/elJ6QNwLqY\", \"The Internet, as well as other telecommunication networks and info https://t.co/eB2X2e1ev8 #Cybersecurity #Bitcoin https://t.co/5wZ4hiyJam\", \"Top 5 Webhosting Companies That Accept Bitcoin Today https://t.co/lnr8o4rDEr\", \"RT @t_ruggeri: In my NANNY reboot Mr. Sheffield loses his fortune after investing in a flop sequel to CATS, so Fran has to work for Niles a\\u2026\", \"If you are seeing bitcoin price predictions for $3k - $40k, both are probably correct. It's simply a matter of adju\\u2026 https://t.co/AjkyRV33dS\", \"@Blackqt19 So basically you make more money bc your altcoins value went up. So you will get that much more money in\\u2026 https://t.co/ReLs3TPUbQ\", \"@junefifteen #buidl is an #ETHEREUM community play on the bitcoin phrase #HODL \\n\\n#hodl is in reference to holding y\\u2026 https://t.co/bxrY8uLAVd\", \"C\\u00b3, Germany\\u2019s Largest Crypto Conference https://t.co/0e74V61ARK \\n#newsoftheweek #Bitcoin #blockchain #crypto\\u2026 https://t.co/IBnOAbkDS6\", \"RT @bethereumteam: We're one of the best rated #blockchain projects on all #ICO listing websites! \\ud83c\\udf1f\\nTrackICO rating: 5/5\\nICOholder rating:\\u2026\", \"RT @Ripple: .@joelkatz and @justmoon had a fireside chat at #slushtokyo18 last week to talk $XRP, #ILP, the #internetofvalue and how they b\\u2026\", \"Copy successful traders automatically with Bitcoin! \\ud83d\\udcb0\\ud83d\\udcb0\\n\\nI copy \\\"Dividend667\\\". Do you?\\n\\n\\u27a1\\ufe0f https://t.co/p9FbOOJWX1\\u2026 https://t.co/3R8lgGntqj\", \"Check out how much the Bitcoin Pizza is worth now https://t.co/t88lBxmHEF\", \"RT @cryptocanucks: Enter now for your chance to win a #free Ledger Nano S! Like, Retweet &amp; Follow @cryptocanucks to enter! Winner announced\\u2026\", \"Bitcoin mega sale. What's happening?\", \"RT @james_totten111: Hey guys! I'm starting a fundraiser to support research on flat earth and top in space. Let me know if you are interes\\u2026\", \"Love chart updates that mean absoeffinglutely nothing while Bitcoin falls. Umm duh all Alts including $ltc which is\\u2026 https://t.co/F5nvQmbDxl\", \"@WSJ @carlquintanilla @RayDalio @lloydblankfein @CliffordAsness @davidfaber @jimcramer @CryptoHustle @paulvigna\\u2026 https://t.co/Gq664xz4gX\", \"@Changelly_team Even though Bitcoin 's remittance has been completed, Lisk will not be remitted. Sending to your wa\\u2026 https://t.co/dLjsVIeAD6\", \"Long/Short Bitcoin volatility with up to 100x Leverage at BitMEX!\\n\\n10% Fee Discount below! \\ud83e\\udd11\\ud83d\\ude0d\\n\\n\\u25b6\\ufe0f\\u2026 https://t.co/SxtboaIIW7\", \"RT @terrymbarnes: Banks controlling what you can and can't do with your own #money. #bitcoin #Blockchain #btc #bch #trx #neo \\nhttps://t.co/\\u2026\", \"RT @ETDEUMPURITAS: Remember bitcoin lol good times\"], \"y\": [14, 2945, 3499, 21275, 284, 2387, 4710, 4710, 4710, 308, 11, 0, 2529, 8662, 69, 24, 7913, 1, 1528, 5148, 1, 0, 31, 148289, 23, 1107, 40, 29709, 9353, 1749, 0, 0, 1100, 23, 67, 1834, 0, 111, 4386, 0, 2795, 1295, 1463, 1159, 1429, 944, 20, 17095, 86, 1, 8110, 0, 2170, 4793, 0, 1429, 20, 274, 9533, 69295, 2795, 67853, 69295, 7418, 67853, 0, 69295, 67853, 69295, 0, 67853, 69295, 67853, 448, 31932, 18022, 4487, 5967, 9434, 204, 27422, 0, 33, 8871, 2298, 10680, 448, 10818, 219, 0, 0, 154485], \"marker\": {\"sizemode\": \"area\", \"size\": [3645, 42, 0, 0, 1, 210, 0, 0, 0, 222, 0, 0, 145, 0, 0, 93, 333, 1689, 0, 0, 0, 0, 0, 0, 0, 2, 902, 1039, 1, 4569, 0, 0, 53, 0, 0, 52, 0, 0, 359, 0, 2, 1, 0, 0, 171, 2, 6, 0, 0, 0, 13, 0, 2, 1, 0, 149, 0, 123, 29, 0, 2, 0, 0, 3, 0, 0, 0, 0, 0, 0, 0, 0, 0, 0, 1, 0, 0, 0, 0, 1674, 179, 0, 0, 17, 0, 7, 0, 0, 0, 0, 7, 18]}}], {\"title\": \"<b>Sentiment Analysis on Bitcoin Related Twitter Chatter</b><br>Logarithmic plot favourites_counts vs retweet_count, size of the plot dependent on retweet_count\", \"yaxis\": {\"type\": \"log\", \"title\": \"favourites_count\"}, \"xaxis\": {\"ticklen\": 5, \"title\": \"retweet_count\", \"zeroline\": false, \"gridwidth\": 2}}, {\"showLink\": true, \"linkText\": \"Export to plot.ly\"})});</script>"
      ]
     },
     "metadata": {},
     "output_type": "display_data"
    }
   ],
   "source": [
    "#Scatter plot\n",
    "#import plotly.offline as off\n",
    "\n",
    "colors = ['blue', 'orange', 'green']\n",
    "\n",
    "opt = []\n",
    "opts = []\n",
    "for i in range(0, len(colors)):\n",
    "    opt = dict(\n",
    "        target = df['tweet_sentiment'][[i]].unique(), value = dict(marker = dict(color = colors[i]))\n",
    "    )\n",
    "    opts.append(opt)\n",
    "\n",
    "print(opts)\n",
    "\n",
    "data = [dict(\n",
    "  type = 'scatter',\n",
    "  mode = 'markers',\n",
    "  x = df['retweet_count'],\n",
    "  y = df['favourites_count'],\n",
    "  text = df['status_texts'],\n",
    "  hoverinfo = 'text',\n",
    "  opacity = 0.8,\n",
    "  marker = dict(\n",
    "      size = df['retweet_count'],\n",
    "      sizemode = 'area',\n",
    "  ),\n",
    "  transforms = [\n",
    "      dict(\n",
    "        type = 'groupby',\n",
    "        groups = df['tweet_sentiment'],\n",
    "        styles = opts\n",
    "    )]\n",
    ")]\n",
    "\n",
    "layout = dict(\n",
    "    title = '<b>Sentiment Analysis on Bitcoin Related Twitter Chatter</b><br>Logarithmic plot favourites_counts vs retweet_count, size of the plot dependent on retweet_count',\n",
    "    yaxis = dict(\n",
    "        title='favourites_count',\n",
    "        type = 'log'\n",
    "    ),\n",
    "    xaxis= dict(\n",
    "        title= 'retweet_count',\n",
    "        ticklen= 5,\n",
    "        zeroline= False,\n",
    "        gridwidth= 2,\n",
    "    ),\n",
    ")\n",
    "\n",
    "\n",
    "iplot({'data': data, 'layout': layout}, validate=False)"
   ]
  },
  {
   "cell_type": "markdown",
   "metadata": {},
   "source": [
    "Lastly, just for fun, let's perfom some word counts"
   ]
  },
  {
   "cell_type": "code",
   "execution_count": 150,
   "metadata": {
    "collapsed": false
   },
   "outputs": [
    {
     "name": "stdout",
     "output_type": "stream",
     "text": [
      "[('RT', 44), ('to', 23), ('the', 22), ('Bitcoin', 21), ('and', 21), ('a', 21), ('of', 19), ('you', 14), ('is', 14), ('in', 12)]\n",
      "\n",
      "[('bitcoin', 11), ('crypto', 10), ('Bitcoin', 10), ('blockchain', 10), ('cryptocurrency', 7), ('Cryptocurrency', 5), ('trading', 4), ('Blockchain', 3), ('Crypto', 3), ('Infographic', 3)]\n",
      "\n"
     ]
    }
   ],
   "source": [
    "from collections import Counter\n",
    "\n",
    "for item in [words, hashtags]:\n",
    "    c = Counter(item)\n",
    "    print(c.most_common()[:10]) # top 10\n",
    "    print()"
   ]
  },
  {
   "cell_type": "markdown",
   "metadata": {},
   "source": [
    "Remove stop words"
   ]
  },
  {
   "cell_type": "code",
   "execution_count": 152,
   "metadata": {
    "collapsed": true
   },
   "outputs": [],
   "source": [
    "from nltk.corpus import stopwords\n",
    "import string"
   ]
  },
  {
   "cell_type": "code",
   "execution_count": 153,
   "metadata": {
    "collapsed": true
   },
   "outputs": [],
   "source": [
    "punctuation = list(string.punctuation)\n",
    "stop = stopwords.words('english') + punctuation + ['rt', 'via', 'RT']"
   ]
  },
  {
   "cell_type": "code",
   "execution_count": 154,
   "metadata": {
    "collapsed": false
   },
   "outputs": [
    {
     "name": "stdout",
     "output_type": "stream",
     "text": [
      "[('#Bitcoin', 3), ('bitcoin', 2), ('Bitcoin', 2), ('think', 2), ('is,', 1), ('#blockchain', 1), ('week?', 1), ('@MAVRO_COIN:', 1), ('@GoldenCurrency:', 1), ('Have', 1)]\n",
      "\n",
      "[('bitcoin', 10), ('crypto', 9), ('Bitcoin', 8), ('blockchain', 8), ('Cryptocurrency', 4), ('cryptocurrency', 4), ('Crypto', 3), ('BlackPanther', 2), ('Mavro', 2), ('Blockchain', 2)]\n",
      "\n"
     ]
    }
   ],
   "source": [
    "from collections import Counter\n",
    "\n",
    "clean_words = []\n",
    "clean_hash = []\n",
    "for w, h in zip(words, hashtags):\n",
    "    if w not in stop:\n",
    "        clean_words.append(w)\n",
    "        clean_hash.append(h)\n",
    "\n",
    "for item in [clean_words, clean_hash]:\n",
    "    c = Counter(item)\n",
    "    print(c.most_common()[:10]) # top 10\n",
    "    print()"
   ]
  },
  {
   "cell_type": "code",
   "execution_count": 123,
   "metadata": {
    "collapsed": false
   },
   "outputs": [],
   "source": [
    "#print(terms_stop)"
   ]
  },
  {
   "cell_type": "code",
   "execution_count": 88,
   "metadata": {
    "collapsed": true
   },
   "outputs": [],
   "source": [
    "#Let's figure out which tweets are retweets\n",
    "retweets = [\n",
    "            # Store out a tuple of these three values ...\n",
    "            (status['retweet_count'], \n",
    "             status['retweeted_status']['user']['screen_name'],\n",
    "             status['text'].replace(\"\\n\",\"\\\\\")) \n",
    "            \n",
    "            # ... for each status ...\n",
    "            for status in statuses \n",
    "            \n",
    "            # ... so long as the status meets this condition.\n",
    "                if 'retweeted_status' in status\n",
    "           ]"
   ]
  },
  {
   "cell_type": "code",
   "execution_count": 155,
   "metadata": {
    "collapsed": false
   },
   "outputs": [],
   "source": [
    "#print(retweets)"
   ]
  }
 ],
 "metadata": {
  "anaconda-cloud": {},
  "kernelspec": {
   "display_name": "Python [Root]",
   "language": "python",
   "name": "Python [Root]"
  },
  "language_info": {
   "codemirror_mode": {
    "name": "ipython",
    "version": 3
   },
   "file_extension": ".py",
   "mimetype": "text/x-python",
   "name": "python",
   "nbconvert_exporter": "python",
   "pygments_lexer": "ipython3",
   "version": "3.5.2"
  }
 },
 "nbformat": 4,
 "nbformat_minor": 2
}
